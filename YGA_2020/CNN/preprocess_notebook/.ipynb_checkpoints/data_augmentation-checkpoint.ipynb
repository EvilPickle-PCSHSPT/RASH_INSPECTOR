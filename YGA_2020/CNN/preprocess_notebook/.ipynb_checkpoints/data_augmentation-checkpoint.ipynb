{
 "cells": [
  {
   "cell_type": "markdown",
   "metadata": {},
   "source": [
    "# How to Augmentation Images in Folder"
   ]
  },
  {
   "cell_type": "markdown",
   "metadata": {},
   "source": [
    "* We will use Augmentor library, this is a great library for augmentation.\n",
    "* You can install by pip(3) install Augmentor\n",
    "* You can find the original repository in this link: https://github.com/mdbloice/Augmentor."
   ]
  },
  {
   "cell_type": "markdown",
   "metadata": {},
   "source": [
    "# Import Libraries"
   ]
  },
  {
   "cell_type": "code",
   "execution_count": 1,
   "metadata": {},
   "outputs": [],
   "source": [
    "import Augmentor"
   ]
  },
  {
   "cell_type": "markdown",
   "metadata": {},
   "source": [
    "# Enter the Original Folder Path"
   ]
  },
  {
   "cell_type": "code",
   "execution_count": 61,
   "metadata": {},
   "outputs": [
    {
     "name": "stdout",
     "output_type": "stream",
     "text": [
      "Initialised with 3 image(s) found.\n",
      "Output directory set to ./Dataset/normalized_data/Other/Vitiligo/norm_vt_leg/output."
     ]
    }
   ],
   "source": [
    "augmented_images = Augmentor.Pipeline('./Dataset/normalized_data/Other/Vitiligo/norm_vt_leg')"
   ]
  },
  {
   "cell_type": "markdown",
   "metadata": {},
   "source": [
    "# Operation"
   ]
  },
  {
   "cell_type": "code",
   "execution_count": 62,
   "metadata": {},
   "outputs": [],
   "source": [
    "augmented_images.rotate90(probability=0.5)\n",
    "augmented_images.rotate270(probability=0.5)\n",
    "augmented_images.flip_left_right(probability=0.8)\n",
    "augmented_images.flip_top_bottom(probability=0.3)\n",
    "augmented_images.zoom(probability=0.5, min_factor=1.1, max_factor=1.5)\n",
    "augmented_images.resize(probability=1.0, width=224, height=224)"
   ]
  },
  {
   "cell_type": "markdown",
   "metadata": {},
   "source": [
    "# Number Images That You Want"
   ]
  },
  {
   "cell_type": "code",
   "execution_count": 63,
   "metadata": {},
   "outputs": [
    {
     "name": "stderr",
     "output_type": "stream",
     "text": [
      "Processing <PIL.Image.Image image mode=RGB size=224x224 at 0x114B97250>: 100%|██████████| 1000/1000 [00:02<00:00, 411.84 Samples/s]\n"
     ]
    }
   ],
   "source": [
    "augmented_images.sample(1000)"
   ]
  },
  {
   "cell_type": "code",
   "execution_count": null,
   "metadata": {},
   "outputs": [],
   "source": []
  }
 ],
 "metadata": {
  "kernelspec": {
   "display_name": "Python 3",
   "language": "python",
   "name": "python3"
  },
  "language_info": {
   "codemirror_mode": {
    "name": "ipython",
    "version": 3
   },
   "file_extension": ".py",
   "mimetype": "text/x-python",
   "name": "python",
   "nbconvert_exporter": "python",
   "pygments_lexer": "ipython3",
   "version": "3.7.4"
  }
 },
 "nbformat": 4,
 "nbformat_minor": 4
}
