{
 "cells": [
  {
   "cell_type": "code",
   "execution_count": 5,
   "metadata": {},
   "outputs": [],
   "source": [
    "def resize_(input_path, output_path):\n",
    "    \n",
    "    image_size = 224\n",
    "    image_dim = (image_size, image_size)\n",
    "    \n",
    "    for i, img in enumerate(input_path):\n",
    "        image = cv2.imread(img)\n",
    "        resized_image = cv2.resize(image, image_dim)\n",
    "        cv2.imwrite(output_path.format(i), resized_image)\n",
    "        #return normalized_image\n",
    "        \n",
    "    for re_img in (output_path):\n",
    "        image = cv2.imread(re_img)\n",
    "        return image.type\n",
    "        norm_image = np.array((image - np.min(image)) / (np.max(image) - np.min(image)))\n",
    "        #cv2.imwrite(output_path.format(i), norm_image)"
   ]
  },
  {
   "cell_type": "code",
   "execution_count": 1,
   "metadata": {},
   "outputs": [],
   "source": [
    "import cv2\n",
    "import numpy as np\n",
    "import glob\n",
    "import matplotlib.pyplot as plt"
   ]
  },
  {
   "cell_type": "code",
   "execution_count": 9,
   "metadata": {},
   "outputs": [],
   "source": [
    "data_path = glob.glob('/Users/waranthornchansawang/Desktop/RASH_INSPECTOR/Dataset/original_data/Allergy/AtopicDermatitis/arm/*jpg')\n",
    "\n",
    "new_path = '/Users/waranthornchansawang/Desktop/RASH_INSPECTOR/Dataset/renorm/AtopicDermatitis/arm/arm{}.jpg'"
   ]
  },
  {
   "cell_type": "code",
   "execution_count": 12,
   "metadata": {},
   "outputs": [],
   "source": [
    "def normalization(input_path, output_path):\n",
    "    for i, img in enumerate(input_path):\n",
    "        image = cv2.imread(img)\n",
    "        norm_image = np.array((image - np.min(image)) / (np.max(image) - np.min(image)))\n",
    "        cv2.imwrite(output_path.format(i), norm_image)\n",
    "        #return norm_image\n",
    "        "
   ]
  },
  {
   "cell_type": "code",
   "execution_count": 13,
   "metadata": {},
   "outputs": [],
   "source": [
    "normalization(data_path, new_path)"
   ]
  },
  {
   "cell_type": "code",
   "execution_count": 14,
   "metadata": {},
   "outputs": [
    {
     "data": {
      "text/plain": [
       "array([[[1, 1, 1],\n",
       "        [1, 1, 1],\n",
       "        [1, 1, 1],\n",
       "        ...,\n",
       "        [1, 1, 1],\n",
       "        [1, 1, 1],\n",
       "        [1, 1, 1]],\n",
       "\n",
       "       [[1, 1, 1],\n",
       "        [1, 1, 1],\n",
       "        [1, 1, 1],\n",
       "        ...,\n",
       "        [1, 1, 1],\n",
       "        [1, 1, 1],\n",
       "        [1, 1, 1]],\n",
       "\n",
       "       [[1, 1, 1],\n",
       "        [1, 1, 1],\n",
       "        [1, 1, 1],\n",
       "        ...,\n",
       "        [1, 1, 1],\n",
       "        [1, 1, 1],\n",
       "        [1, 1, 1]],\n",
       "\n",
       "       ...,\n",
       "\n",
       "       [[1, 1, 1],\n",
       "        [1, 1, 1],\n",
       "        [1, 1, 1],\n",
       "        ...,\n",
       "        [1, 2, 0],\n",
       "        [1, 2, 0],\n",
       "        [1, 2, 0]],\n",
       "\n",
       "       [[1, 1, 1],\n",
       "        [1, 1, 1],\n",
       "        [1, 1, 1],\n",
       "        ...,\n",
       "        [1, 2, 0],\n",
       "        [1, 2, 0],\n",
       "        [1, 2, 0]],\n",
       "\n",
       "       [[1, 1, 1],\n",
       "        [1, 1, 1],\n",
       "        [1, 1, 1],\n",
       "        ...,\n",
       "        [1, 2, 0],\n",
       "        [1, 2, 0],\n",
       "        [1, 2, 0]]], dtype=uint8)"
      ]
     },
     "execution_count": 14,
     "metadata": {},
     "output_type": "execute_result"
    }
   ],
   "source": [
    "cv2.imread('/Users/waranthornchansawang/Desktop/RASH_INSPECTOR/Dataset/renorm/AtopicDermatitis/arm/arm3.jpg')"
   ]
  },
  {
   "cell_type": "code",
   "execution_count": null,
   "metadata": {},
   "outputs": [],
   "source": []
  }
 ],
 "metadata": {
  "kernelspec": {
   "display_name": "Python 3",
   "language": "python",
   "name": "python3"
  },
  "language_info": {
   "codemirror_mode": {
    "name": "ipython",
    "version": 3
   },
   "file_extension": ".py",
   "mimetype": "text/x-python",
   "name": "python",
   "nbconvert_exporter": "python",
   "pygments_lexer": "ipython3",
   "version": "3.7.4"
  }
 },
 "nbformat": 4,
 "nbformat_minor": 4
}
