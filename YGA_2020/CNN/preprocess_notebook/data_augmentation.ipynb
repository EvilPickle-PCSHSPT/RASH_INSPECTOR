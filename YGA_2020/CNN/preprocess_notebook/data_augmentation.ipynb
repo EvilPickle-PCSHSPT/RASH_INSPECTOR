{
 "cells": [
  {
   "cell_type": "markdown",
   "metadata": {},
   "source": [
    "# How to Augmentation Images in Folder"
   ]
  },
  {
   "cell_type": "markdown",
   "metadata": {},
   "source": [
    "* We will use Augmentor library, this is a great library for augmentation.\n",
    "* You can install by pip(3) install Augmentor\n",
    "* You can find the original repository in this link: https://github.com/mdbloice/Augmentor."
   ]
  },
  {
   "cell_type": "markdown",
   "metadata": {},
   "source": [
    "# Import Libraries"
   ]
  },
  {
   "cell_type": "code",
   "execution_count": 1,
   "metadata": {},
   "outputs": [],
   "source": [
    "import Augmentor"
   ]
  },
  {
   "cell_type": "markdown",
   "metadata": {},
   "source": [
    "# Enter the Original Folder Path"
   ]
  },
  {
   "cell_type": "code",
   "execution_count": 2,
   "metadata": {},
   "outputs": [
    {
     "name": "stdout",
     "output_type": "stream",
     "text": [
      "Initialised with 65 image(s) found.\n",
      "Output directory set to /Users/waranthornchansawang/Desktop/RASH_INSPECTOR/Dataset/ORGAN/step3_resized_data/arm/AD/output."
     ]
    }
   ],
   "source": [
    "augmented_images = Augmentor.Pipeline('/Users/waranthornchansawang/Desktop/RASH_INSPECTOR/Dataset/ORGAN/step3_resized_data/arm/AD')"
   ]
  },
  {
   "cell_type": "markdown",
   "metadata": {},
   "source": [
    "# Operation"
   ]
  },
  {
   "cell_type": "code",
   "execution_count": 3,
   "metadata": {},
   "outputs": [],
   "source": [
    "augmented_images.rotate90(probability=1)\n",
    "augmented_images.rotate180(probability=1)\n",
    "augmented_images.rotate270(probability=1)\n",
    "augmented_images.random_brightness(probability=1, min_factor=0.5, max_factor=0.9)\n",
    "augmented_images.flip_left_right(probability=1)\n",
    "augmented_images.flip_top_bottom(probability=1)\n",
    "augmented_images.flip_random(probability=1)\n",
    "augmented_images.zoom(probability=1, min_factor=1.1, max_factor=1.1)\n",
    "augmented_images.skew_tilt(probability=1)\n",
    "augmented_images.skew_left_right(probability=1)\n",
    "augmented_images.skew_top_bottom(probability=1)\n",
    "augmented_images.skew_corner(probability=1)\n",
    "augmented_images.skew(probability=1)\n",
    "augmented_images.random_distortion(probability=1, grid_width=224, grid_height=224, magnitude=8)\n",
    "augmented_images.shear(probability=1, max_shear_left=25, max_shear_right=25)\n",
    "#augmented_images.zoom(probability=1, min_factor=1.25, max_factor=1.25)"
   ]
  },
  {
   "cell_type": "code",
   "execution_count": 4,
   "metadata": {},
   "outputs": [
    {
     "name": "stdout",
     "output_type": "stream",
     "text": [
      "Operations: 15\n",
      "\t0: Rotate 90 (probability=1 rotation=90 )\n",
      "\t1: Rotate 180 (probability=1 rotation=180 )\n",
      "\t2: Rotate 270 (probability=1 rotation=270 )\n",
      "\t3: RandomBrightness (probability=1 min_factor=0.5 max_factor=0.9 )\n",
      "\t4: Flip (probability=1 top_bottom_left_right=LEFT_RIGHT )\n",
      "\t5: Flip (probability=1 top_bottom_left_right=TOP_BOTTOM )\n",
      "\t6: Flip (probability=1 top_bottom_left_right=RANDOM )\n",
      "\t7: Zoom (probability=1 min_factor=1.1 max_factor=1.1 )\n",
      "\t8: Skew (probability=1 skew_type=TILT magnitude=1 )\n",
      "\t9: Skew (probability=1 skew_type=TILT_LEFT_RIGHT magnitude=1 )\n",
      "\t10: Skew (probability=1 skew_type=TILT_TOP_BOTTOM magnitude=1 )\n",
      "\t11: Skew (probability=1 skew_type=CORNER magnitude=1 )\n",
      "\t12: Skew (probability=1 skew_type=RANDOM magnitude=1 )\n",
      "\t13: Distort (probability=1 grid_width=224 grid_height=224 magnitude=8 randomise_magnitude=True )\n",
      "\t14: Shear (probability=1 max_shear_left=25 max_shear_right=25 )\n",
      "Images: 65\n",
      "Classes: 1\n",
      "\tClass index: 0 Class label: AD \n",
      "Dimensions: 1\n",
      "\tWidth: 224 Height: 224\n",
      "Formats: 1\n",
      "\t JPEG\n",
      "\n",
      "You can remove operations using the appropriate index and the remove_operation(index) function.\n"
     ]
    }
   ],
   "source": [
    "augmented_images.status()"
   ]
  },
  {
   "cell_type": "markdown",
   "metadata": {},
   "source": [
    "# Number Images That You Want"
   ]
  },
  {
   "cell_type": "code",
   "execution_count": null,
   "metadata": {},
   "outputs": [
    {
     "name": "stderr",
     "output_type": "stream",
     "text": [
      "Processing <PIL.Image.Image image mode=RGB size=224x224 at 0x13EC10A50>:   6%|▌         | 31/500 [01:47<08:18,  1.06s/ Samples] "
     ]
    }
   ],
   "source": [
    "augmented_images.sample(500)"
   ]
  },
  {
   "cell_type": "code",
   "execution_count": null,
   "metadata": {},
   "outputs": [],
   "source": []
  }
 ],
 "metadata": {
  "kernelspec": {
   "display_name": "Python 3",
   "language": "python",
   "name": "python3"
  },
  "language_info": {
   "codemirror_mode": {
    "name": "ipython",
    "version": 3
   },
   "file_extension": ".py",
   "mimetype": "text/x-python",
   "name": "python",
   "nbconvert_exporter": "python",
   "pygments_lexer": "ipython3",
   "version": "3.7.4"
  }
 },
 "nbformat": 4,
 "nbformat_minor": 4
}
