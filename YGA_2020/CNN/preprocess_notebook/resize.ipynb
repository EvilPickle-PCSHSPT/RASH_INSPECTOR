{
 "cells": [
  {
   "cell_type": "code",
   "execution_count": 1,
   "metadata": {},
   "outputs": [],
   "source": [
    "import cv2\n",
    "import glob"
   ]
  },
  {
   "cell_type": "code",
   "execution_count": 2,
   "metadata": {},
   "outputs": [],
   "source": [
    "def resize(path, output):\n",
    "    for i, img in enumerate (glob.glob(path)):\n",
    "        image = cv2.imread(img)\n",
    "        resized_image = cv2.resize(image, (224, 224))\n",
    "        cv2.imwrite(output.format(i), resized_image)"
   ]
  },
  {
   "cell_type": "code",
   "execution_count": 5,
   "metadata": {},
   "outputs": [],
   "source": [
    "path = '/Users/waranthornchansawang/Desktop/RASH_INSPECTOR/Dataset/ORGAN/step2_selected_data/bodyskin/AD/*.jpg'\n",
    "out = '/Users/waranthornchansawang/Desktop/RASH_INSPECTOR/Dataset/ORGAN/step3_resized_data/bodyskin/AD/AD_bodyskin_{}.jpg'"
   ]
  },
  {
   "cell_type": "code",
   "execution_count": 6,
   "metadata": {},
   "outputs": [],
   "source": [
    "resize(path, out)"
   ]
  },
  {
   "cell_type": "code",
   "execution_count": null,
   "metadata": {},
   "outputs": [],
   "source": []
  }
 ],
 "metadata": {
  "kernelspec": {
   "display_name": "Python 3",
   "language": "python",
   "name": "python3"
  },
  "language_info": {
   "codemirror_mode": {
    "name": "ipython",
    "version": 3
   },
   "file_extension": ".py",
   "mimetype": "text/x-python",
   "name": "python",
   "nbconvert_exporter": "python",
   "pygments_lexer": "ipython3",
   "version": "3.7.4"
  }
 },
 "nbformat": 4,
 "nbformat_minor": 4
}
