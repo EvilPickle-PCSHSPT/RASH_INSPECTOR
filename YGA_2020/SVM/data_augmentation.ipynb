{
 "cells": [
  {
   "cell_type": "code",
   "execution_count": 1,
   "metadata": {},
   "outputs": [],
   "source": [
    "import Augmentor"
   ]
  },
  {
   "cell_type": "code",
   "execution_count": 23,
   "metadata": {},
   "outputs": [
    {
     "name": "stdout",
     "output_type": "stream",
     "text": [
      "Initialised with 25 image(s) found.\n",
      "Output directory set to /Users/waranthornchansawang/Desktop/SVM_RASH_INSPECTOR/data/leg/Other/output."
     ]
    }
   ],
   "source": [
    "augmented_images = Augmentor.Pipeline('/Users/waranthornchansawang/Desktop/SVM_RASH_INSPECTOR/data/leg/Other')"
   ]
  },
  {
   "cell_type": "code",
   "execution_count": 24,
   "metadata": {},
   "outputs": [],
   "source": [
    "augmented_images.rotate90(probability=0.5)\n",
    "augmented_images.rotate270(probability=0.5)\n",
    "augmented_images.flip_left_right(probability=0.8)\n",
    "augmented_images.flip_top_bottom(probability=0.3)\n",
    "augmented_images.crop_random(probability=1, percentage_area=0.5)"
   ]
  },
  {
   "cell_type": "code",
   "execution_count": 25,
   "metadata": {},
   "outputs": [
    {
     "name": "stderr",
     "output_type": "stream",
     "text": [
      "Processing <PIL.Image.Image image mode=RGB size=112x112 at 0x116A59990>: 100%|██████████| 100/100 [00:00<00:00, 581.77 Samples/s]\n"
     ]
    }
   ],
   "source": [
    "augmented_images.sample(100)"
   ]
  },
  {
   "cell_type": "code",
   "execution_count": null,
   "metadata": {},
   "outputs": [],
   "source": []
  }
 ],
 "metadata": {
  "kernelspec": {
   "display_name": "Python 3",
   "language": "python",
   "name": "python3"
  },
  "language_info": {
   "codemirror_mode": {
    "name": "ipython",
    "version": 3
   },
   "file_extension": ".py",
   "mimetype": "text/x-python",
   "name": "python",
   "nbconvert_exporter": "python",
   "pygments_lexer": "ipython3",
   "version": "3.7.4"
  }
 },
 "nbformat": 4,
 "nbformat_minor": 4
}
