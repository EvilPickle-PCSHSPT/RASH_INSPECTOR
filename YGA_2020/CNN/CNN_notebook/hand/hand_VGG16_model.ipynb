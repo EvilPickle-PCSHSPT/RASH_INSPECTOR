{
  "nbformat": 4,
  "nbformat_minor": 0,
  "metadata": {
    "colab": {
      "name": "hand_VGG16_model.ipynb",
      "provenance": [],
      "collapsed_sections": [],
      "include_colab_link": true
    },
    "kernelspec": {
      "name": "python3",
      "display_name": "Python 3"
    },
    "accelerator": "GPU"
  },
  "cells": [
    {
      "cell_type": "markdown",
      "metadata": {
        "id": "view-in-github",
        "colab_type": "text"
      },
      "source": [
        "<a href=\"https://colab.research.google.com/github/filmer2002/RASH_INSPECTOR/blob/master/hand_VGG16_model.ipynb\" target=\"_parent\"><img src=\"https://colab.research.google.com/assets/colab-badge.svg\" alt=\"Open In Colab\"/></a>"
      ]
    },
    {
      "cell_type": "markdown",
      "metadata": {
        "id": "alWHPGVwE7xH",
        "colab_type": "text"
      },
      "source": [
        "# **VGG16**\n",
        "Let's implement !!!"
      ]
    },
    {
      "cell_type": "code",
      "metadata": {
        "id": "zFptaYBrlY4o",
        "colab_type": "code",
        "outputId": "e44ff184-00a2-4bef-8e87-453eeaca5519",
        "colab": {
          "base_uri": "https://localhost:8080/",
          "height": 80
        }
      },
      "source": [
        "import tensorflow as tf\n",
        "import keras\n",
        "from keras import backend as K\n",
        "from keras import models\n",
        "from keras.models import Sequential, Model\n",
        "from keras.layers.core import Dense, Dropout, Activation, Flatten\n",
        "from keras.layers.convolutional import Convolution2D, MaxPooling2D\n",
        "from keras.preprocessing.image import ImageDataGenerator, load_img, img_to_array\n",
        "from keras.applications.vgg16 import VGG16\n",
        "from keras.applications.imagenet_utils import preprocess_input\n",
        "from keras.preprocessing import image\n",
        "from keras.optimizers import Adam\n",
        "from keras.callbacks import EarlyStopping, ReduceLROnPlateau, ModelCheckpoint\n",
        "from sklearn.metrics import classification_report, confusion_matrix, precision_recall_fscore_support\n",
        "from vis.utils import utils\n",
        "import itertools\n",
        "import matplotlib.pyplot as plt\n",
        "import matplotlib.image as mpimg\n",
        "import numpy as np\n",
        "import PIL\n",
        "import cv2"
      ],
      "execution_count": 0,
      "outputs": [
        {
          "output_type": "display_data",
          "data": {
            "text/html": [
              "<p style=\"color: red;\">\n",
              "The default version of TensorFlow in Colab will soon switch to TensorFlow 2.x.<br>\n",
              "We recommend you <a href=\"https://www.tensorflow.org/guide/migrate\" target=\"_blank\">upgrade</a> now \n",
              "or ensure your notebook will continue to use TensorFlow 1.x via the <code>%tensorflow_version 1.x</code> magic:\n",
              "<a href=\"https://colab.research.google.com/notebooks/tensorflow_version.ipynb\" target=\"_blank\">more info</a>.</p>\n"
            ],
            "text/plain": [
              "<IPython.core.display.HTML object>"
            ]
          },
          "metadata": {
            "tags": []
          }
        },
        {
          "output_type": "stream",
          "text": [
            "Using TensorFlow backend.\n"
          ],
          "name": "stderr"
        }
      ]
    },
    {
      "cell_type": "code",
      "metadata": {
        "id": "e6nuvkEGlf5y",
        "colab_type": "code",
        "outputId": "4b4b4109-f3ba-46a8-fbf4-07be6bbea5bb",
        "colab": {
          "base_uri": "https://localhost:8080/",
          "height": 122
        }
      },
      "source": [
        "from google.colab import drive\n",
        "drive.mount('/content/drive')"
      ],
      "execution_count": 0,
      "outputs": [
        {
          "output_type": "stream",
          "text": [
            "Go to this URL in a browser: https://accounts.google.com/o/oauth2/auth?client_id=947318989803-6bn6qk8qdgf4n4g3pfee6491hc0brc4i.apps.googleusercontent.com&redirect_uri=urn%3aietf%3awg%3aoauth%3a2.0%3aoob&response_type=code&scope=email%20https%3a%2f%2fwww.googleapis.com%2fauth%2fdocs.test%20https%3a%2f%2fwww.googleapis.com%2fauth%2fdrive%20https%3a%2f%2fwww.googleapis.com%2fauth%2fdrive.photos.readonly%20https%3a%2f%2fwww.googleapis.com%2fauth%2fpeopleapi.readonly\n",
            "\n",
            "Enter your authorization code:\n",
            "··········\n",
            "Mounted at /content/drive\n"
          ],
          "name": "stdout"
        }
      ]
    },
    {
      "cell_type": "code",
      "metadata": {
        "id": "Yoym82Xpl1BC",
        "colab_type": "code",
        "outputId": "fea1e144-3b09-4d5c-904c-0d1e42178655",
        "colab": {
          "base_uri": "https://localhost:8080/",
          "height": 119
        }
      },
      "source": [
        "!git clone https://github.com/filmer2002/RASH_INSPECTOR_data"
      ],
      "execution_count": 0,
      "outputs": [
        {
          "output_type": "stream",
          "text": [
            "Cloning into 'RASH_INSPECTOR_data'...\n",
            "remote: Enumerating objects: 4594, done.\u001b[K\n",
            "remote: Counting objects: 100% (4594/4594), done.\u001b[K\n",
            "remote: Compressing objects: 100% (4594/4594), done.\u001b[K\n",
            "remote: Total 4594 (delta 0), reused 4594 (delta 0), pack-reused 0\u001b[K\n",
            "Receiving objects: 100% (4594/4594), 43.82 MiB | 11.21 MiB/s, done.\n"
          ],
          "name": "stdout"
        }
      ]
    },
    {
      "cell_type": "code",
      "metadata": {
        "id": "tsnElUGjmZR9",
        "colab_type": "code",
        "colab": {}
      },
      "source": [
        "train_path = '/content/RASH_INSPECTOR_data/hand/train'\n",
        "val_path = '/content/RASH_INSPECTOR_data/hand/val'\n",
        "test_path = '/content/RASH_INSPECTOR_data/hand/test'"
      ],
      "execution_count": 0,
      "outputs": []
    },
    {
      "cell_type": "code",
      "metadata": {
        "id": "g9kkhAXCmdAF",
        "colab_type": "code",
        "colab": {}
      },
      "source": [
        "img_size = 224\n",
        "epochs = 30\n",
        "batch_size = 32"
      ],
      "execution_count": 0,
      "outputs": []
    },
    {
      "cell_type": "code",
      "metadata": {
        "id": "nWHnOCB_md5L",
        "colab_type": "code",
        "colab": {}
      },
      "source": [
        "train_norm = ImageDataGenerator(rescale=1. / 255) \n",
        "val_norm = ImageDataGenerator(rescale=1. / 255) \n",
        "test_norm = ImageDataGenerator(rescale=1. / 255) "
      ],
      "execution_count": 0,
      "outputs": []
    },
    {
      "cell_type": "code",
      "metadata": {
        "id": "VSp-HB25mev5",
        "colab_type": "code",
        "outputId": "758cd09f-2d18-4386-92a6-5d8bbc79fcd9",
        "colab": {
          "base_uri": "https://localhost:8080/",
          "height": 68
        }
      },
      "source": [
        "train_generator = train_norm.flow_from_directory( \n",
        "    train_path, \n",
        "    target_size=(img_size, img_size), \n",
        "    batch_size=batch_size)\n",
        "\n",
        "val_generator = val_norm.flow_from_directory( \n",
        "    val_path, \n",
        "    target_size=(img_size, img_size), \n",
        "    batch_size=batch_size)\n",
        "\n",
        "test_generator = test_norm.flow_from_directory( \n",
        "    test_path, \n",
        "    target_size=(img_size, img_size), \n",
        "    batch_size=batch_size,\n",
        "    shuffle=False)"
      ],
      "execution_count": 0,
      "outputs": [
        {
          "output_type": "stream",
          "text": [
            "Found 400 images belonging to 2 classes.\n",
            "Found 50 images belonging to 2 classes.\n",
            "Found 50 images belonging to 2 classes.\n"
          ],
          "name": "stdout"
        }
      ]
    },
    {
      "cell_type": "code",
      "metadata": {
        "id": "ABsU9KkEmfv4",
        "colab_type": "code",
        "outputId": "a37ae43b-8020-4d77-ee3b-eab1e8de8312",
        "colab": {
          "base_uri": "https://localhost:8080/",
          "height": 68
        }
      },
      "source": [
        "num_train_files = len(train_generator.filenames)\n",
        "num_train_classes = len(train_generator.class_indices)\n",
        "print('num_train_files', num_train_files, '&', 'num_train_classes', num_train_classes )\n",
        "\n",
        "num_val_files = len(val_generator.filenames)\n",
        "num_val_classes = len(val_generator.class_indices)\n",
        "print('num_val_files', num_val_files, '&', 'num_val_classes', num_val_classes )\n",
        "\n",
        "num_test_files = len(test_generator.filenames)\n",
        "num_test_classes = len(test_generator.class_indices)\n",
        "print('num_test_files', num_test_files, '&', 'num_test_classes', num_test_classes )"
      ],
      "execution_count": 0,
      "outputs": [
        {
          "output_type": "stream",
          "text": [
            "num_train_files 400 & num_train_classes 2\n",
            "num_val_files 50 & num_val_classes 2\n",
            "num_test_files 50 & num_test_classes 2\n"
          ],
          "name": "stdout"
        }
      ]
    },
    {
      "cell_type": "code",
      "metadata": {
        "id": "SDOW7IbQm3Fs",
        "colab_type": "code",
        "colab": {}
      },
      "source": [
        "train_steps = np.ceil(num_train_files/batch_size)\n",
        "val_steps = np.ceil(num_val_files/batch_size)"
      ],
      "execution_count": 0,
      "outputs": []
    },
    {
      "cell_type": "code",
      "metadata": {
        "id": "2VKWS_mfm4Za",
        "colab_type": "code",
        "outputId": "2e8a926f-e547-4327-de88-f27f92ebad2b",
        "colab": {
          "base_uri": "https://localhost:8080/",
          "height": 411
        }
      },
      "source": [
        "model = VGG16(weights='imagenet')"
      ],
      "execution_count": 0,
      "outputs": [
        {
          "output_type": "stream",
          "text": [
            "WARNING:tensorflow:From /usr/local/lib/python3.6/dist-packages/keras/backend/tensorflow_backend.py:66: The name tf.get_default_graph is deprecated. Please use tf.compat.v1.get_default_graph instead.\n",
            "\n",
            "WARNING:tensorflow:From /usr/local/lib/python3.6/dist-packages/keras/backend/tensorflow_backend.py:541: The name tf.placeholder is deprecated. Please use tf.compat.v1.placeholder instead.\n",
            "\n",
            "WARNING:tensorflow:From /usr/local/lib/python3.6/dist-packages/keras/backend/tensorflow_backend.py:4432: The name tf.random_uniform is deprecated. Please use tf.random.uniform instead.\n",
            "\n",
            "WARNING:tensorflow:From /usr/local/lib/python3.6/dist-packages/keras/backend/tensorflow_backend.py:4267: The name tf.nn.max_pool is deprecated. Please use tf.nn.max_pool2d instead.\n",
            "\n",
            "Downloading data from https://github.com/fchollet/deep-learning-models/releases/download/v0.1/vgg16_weights_tf_dim_ordering_tf_kernels.h5\n",
            "553467904/553467096 [==============================] - 34s 0us/step\n",
            "WARNING:tensorflow:From /usr/local/lib/python3.6/dist-packages/keras/backend/tensorflow_backend.py:190: The name tf.get_default_session is deprecated. Please use tf.compat.v1.get_default_session instead.\n",
            "\n",
            "WARNING:tensorflow:From /usr/local/lib/python3.6/dist-packages/keras/backend/tensorflow_backend.py:197: The name tf.ConfigProto is deprecated. Please use tf.compat.v1.ConfigProto instead.\n",
            "\n",
            "WARNING:tensorflow:From /usr/local/lib/python3.6/dist-packages/keras/backend/tensorflow_backend.py:203: The name tf.Session is deprecated. Please use tf.compat.v1.Session instead.\n",
            "\n",
            "WARNING:tensorflow:From /usr/local/lib/python3.6/dist-packages/keras/backend/tensorflow_backend.py:207: The name tf.global_variables is deprecated. Please use tf.compat.v1.global_variables instead.\n",
            "\n",
            "WARNING:tensorflow:From /usr/local/lib/python3.6/dist-packages/keras/backend/tensorflow_backend.py:216: The name tf.is_variable_initialized is deprecated. Please use tf.compat.v1.is_variable_initialized instead.\n",
            "\n",
            "WARNING:tensorflow:From /usr/local/lib/python3.6/dist-packages/keras/backend/tensorflow_backend.py:223: The name tf.variables_initializer is deprecated. Please use tf.compat.v1.variables_initializer instead.\n",
            "\n"
          ],
          "name": "stdout"
        }
      ]
    },
    {
      "cell_type": "code",
      "metadata": {
        "id": "86FK8GJCm5mJ",
        "colab_type": "code",
        "colab": {}
      },
      "source": [
        "x = model.layers[-2].output\n",
        "predictions = Dense(num_train_classes, activation='softmax')(x)\n",
        "model = Model(inputs=model.input, outputs=predictions)"
      ],
      "execution_count": 0,
      "outputs": []
    },
    {
      "cell_type": "code",
      "metadata": {
        "id": "m-_JRONZm_8n",
        "colab_type": "code",
        "outputId": "a2fc9738-1409-4b3b-c316-28fa4f3c5554",
        "colab": {
          "base_uri": "https://localhost:8080/",
          "height": 105
        }
      },
      "source": [
        "model.compile(Adam(lr=0.01), \n",
        "              loss='categorical_crossentropy', \n",
        "              metrics=['accuracy'])"
      ],
      "execution_count": 0,
      "outputs": [
        {
          "output_type": "stream",
          "text": [
            "WARNING:tensorflow:From /usr/local/lib/python3.6/dist-packages/keras/optimizers.py:793: The name tf.train.Optimizer is deprecated. Please use tf.compat.v1.train.Optimizer instead.\n",
            "\n",
            "WARNING:tensorflow:From /usr/local/lib/python3.6/dist-packages/keras/backend/tensorflow_backend.py:3576: The name tf.log is deprecated. Please use tf.math.log instead.\n",
            "\n"
          ],
          "name": "stdout"
        }
      ]
    },
    {
      "cell_type": "code",
      "metadata": {
        "id": "XZyiMWPYnBjg",
        "colab_type": "code",
        "colab": {}
      },
      "source": [
        "model_path = '/content/drive/My Drive/โครงงานผื่น/RASH_INSPECTOR/ORGAN/hand/VGG16/hand_vgg16_model.h5'"
      ],
      "execution_count": 0,
      "outputs": []
    },
    {
      "cell_type": "code",
      "metadata": {
        "id": "HM6cEeNynCn8",
        "colab_type": "code",
        "colab": {}
      },
      "source": [
        "checkpoint = ModelCheckpoint(model_path, monitor='val_acc', verbose=1,\n",
        "                             save_best_only=True, mode='max')"
      ],
      "execution_count": 0,
      "outputs": []
    },
    {
      "cell_type": "code",
      "metadata": {
        "id": "FATljeH9nLZQ",
        "colab_type": "code",
        "colab": {}
      },
      "source": [
        "early_stop = EarlyStopping(monitor='val_loss', mode='min', verbose=1, patience=10)"
      ],
      "execution_count": 0,
      "outputs": []
    },
    {
      "cell_type": "code",
      "metadata": {
        "id": "mxCkvMBmnMWx",
        "colab_type": "code",
        "colab": {}
      },
      "source": [
        "reduce_lr = ReduceLROnPlateau(monitor='val_loss', factor=0.2, patience=2,\n",
        "                              verbose=1, mode='max', min_lr=0.00001)"
      ],
      "execution_count": 0,
      "outputs": []
    },
    {
      "cell_type": "code",
      "metadata": {
        "id": "miheorgEnNJM",
        "colab_type": "code",
        "colab": {}
      },
      "source": [
        "log_dir = '/content/drive/My Drive/โครงงานผื่น/RASH_INSPECTOR/ORGAN/hand/VGG16/tf-log/'\n",
        "tb_cb = keras.callbacks.TensorBoard(log_dir=log_dir, histogram_freq=0, batch_size=32, write_graph=True, write_grads=False, write_images=False, embeddings_freq=0, embeddings_layer_names=None, embeddings_metadata=None, embeddings_data=None, update_freq='epoch')"
      ],
      "execution_count": 0,
      "outputs": []
    },
    {
      "cell_type": "code",
      "metadata": {
        "id": "ZHy6UUKinP7t",
        "colab_type": "code",
        "colab": {}
      },
      "source": [
        "cb_list = [checkpoint, early_stop, reduce_lr, tb_cb]"
      ],
      "execution_count": 0,
      "outputs": []
    },
    {
      "cell_type": "code",
      "metadata": {
        "id": "kYaKHo9tnRV5",
        "colab_type": "code",
        "outputId": "0216ff2a-199d-463b-f1d8-dd4839d2fd8d",
        "colab": {
          "base_uri": "https://localhost:8080/",
          "height": 1000
        }
      },
      "source": [
        "history = model.fit_generator(train_generator,\n",
        "                              steps_per_epoch=train_steps,\n",
        "                              validation_data=val_generator,\n",
        "                              validation_steps=val_steps,\n",
        "                              epochs=epochs,\n",
        "                              verbose=1,\n",
        "                              callbacks=cb_list)"
      ],
      "execution_count": 0,
      "outputs": [
        {
          "output_type": "stream",
          "text": [
            "WARNING:tensorflow:From /usr/local/lib/python3.6/dist-packages/tensorflow_core/python/ops/math_grad.py:1424: where (from tensorflow.python.ops.array_ops) is deprecated and will be removed in a future version.\n",
            "Instructions for updating:\n",
            "Use tf.where in 2.0, which has the same broadcast rule as np.where\n",
            "WARNING:tensorflow:From /usr/local/lib/python3.6/dist-packages/keras/backend/tensorflow_backend.py:1033: The name tf.assign_add is deprecated. Please use tf.compat.v1.assign_add instead.\n",
            "\n",
            "WARNING:tensorflow:From /usr/local/lib/python3.6/dist-packages/keras/backend/tensorflow_backend.py:1020: The name tf.assign is deprecated. Please use tf.compat.v1.assign instead.\n",
            "\n",
            "WARNING:tensorflow:From /usr/local/lib/python3.6/dist-packages/keras/callbacks.py:1122: The name tf.summary.merge_all is deprecated. Please use tf.compat.v1.summary.merge_all instead.\n",
            "\n",
            "WARNING:tensorflow:From /usr/local/lib/python3.6/dist-packages/keras/callbacks.py:1125: The name tf.summary.FileWriter is deprecated. Please use tf.compat.v1.summary.FileWriter instead.\n",
            "\n",
            "Epoch 1/30\n",
            "13/13 [==============================] - 11s 842ms/step - loss: 7.5542 - acc: 0.4978 - val_loss: 8.0590 - val_acc: 0.5000\n",
            "\n",
            "Epoch 00001: val_acc improved from -inf to 0.50000, saving model to /content/drive/My Drive/โครงงานผื่น/RASH_INSPECTOR/ORGAN/hand/VGG16/hand_vgg16_model.h5\n",
            "WARNING:tensorflow:From /usr/local/lib/python3.6/dist-packages/keras/callbacks.py:1265: The name tf.Summary is deprecated. Please use tf.compat.v1.Summary instead.\n",
            "\n",
            "Epoch 2/30\n",
            "13/13 [==============================] - 3s 265ms/step - loss: 8.0590 - acc: 0.5000 - val_loss: 8.0590 - val_acc: 0.5000\n",
            "\n",
            "Epoch 00002: val_acc did not improve from 0.50000\n",
            "Epoch 3/30\n",
            "13/13 [==============================] - 3s 265ms/step - loss: 8.0590 - acc: 0.5000 - val_loss: 8.0590 - val_acc: 0.5000\n",
            "\n",
            "Epoch 00003: val_acc improved from 0.50000 to 0.50000, saving model to /content/drive/My Drive/โครงงานผื่น/RASH_INSPECTOR/ORGAN/hand/VGG16/hand_vgg16_model.h5\n",
            "\n",
            "Epoch 00003: ReduceLROnPlateau reducing learning rate to 0.0019999999552965165.\n",
            "Epoch 4/30\n",
            "13/13 [==============================] - 3s 265ms/step - loss: 8.1670 - acc: 0.4933 - val_loss: 8.0590 - val_acc: 0.5000\n",
            "\n",
            "Epoch 00004: val_acc did not improve from 0.50000\n",
            "Epoch 5/30\n",
            "13/13 [==============================] - 3s 264ms/step - loss: 8.0590 - acc: 0.5000 - val_loss: 8.0590 - val_acc: 0.5000\n",
            "\n",
            "Epoch 00005: val_acc did not improve from 0.50000\n",
            "\n",
            "Epoch 00005: ReduceLROnPlateau reducing learning rate to 0.0003999999724328518.\n",
            "Epoch 6/30\n",
            "13/13 [==============================] - 3s 264ms/step - loss: 8.0231 - acc: 0.5022 - val_loss: 8.0590 - val_acc: 0.5000\n",
            "\n",
            "Epoch 00006: val_acc did not improve from 0.50000\n",
            "Epoch 7/30\n",
            "13/13 [==============================] - 3s 265ms/step - loss: 7.9151 - acc: 0.5089 - val_loss: 8.0590 - val_acc: 0.5000\n",
            "\n",
            "Epoch 00007: val_acc did not improve from 0.50000\n",
            "\n",
            "Epoch 00007: ReduceLROnPlateau reducing learning rate to 7.999999215826393e-05.\n",
            "Epoch 8/30\n",
            "13/13 [==============================] - 3s 265ms/step - loss: 7.9511 - acc: 0.5067 - val_loss: 8.0590 - val_acc: 0.5000\n",
            "\n",
            "Epoch 00008: val_acc did not improve from 0.50000\n",
            "Epoch 9/30\n",
            "13/13 [==============================] - 3s 264ms/step - loss: 7.9511 - acc: 0.5067 - val_loss: 8.0590 - val_acc: 0.5000\n",
            "\n",
            "Epoch 00009: val_acc improved from 0.50000 to 0.50000, saving model to /content/drive/My Drive/โครงงานผื่น/RASH_INSPECTOR/ORGAN/hand/VGG16/hand_vgg16_model.h5\n",
            "\n",
            "Epoch 00009: ReduceLROnPlateau reducing learning rate to 1.599999814061448e-05.\n",
            "Epoch 10/30\n",
            "13/13 [==============================] - 3s 268ms/step - loss: 8.0231 - acc: 0.5022 - val_loss: 8.0590 - val_acc: 0.5000\n",
            "\n",
            "Epoch 00010: val_acc did not improve from 0.50000\n",
            "Epoch 11/30\n",
            "13/13 [==============================] - 3s 264ms/step - loss: 8.0590 - acc: 0.5000 - val_loss: 8.0590 - val_acc: 0.5000\n",
            "\n",
            "Epoch 00011: val_acc did not improve from 0.50000\n",
            "\n",
            "Epoch 00011: ReduceLROnPlateau reducing learning rate to 1e-05.\n",
            "Epoch 12/30\n",
            "13/13 [==============================] - 3s 266ms/step - loss: 8.0950 - acc: 0.4978 - val_loss: 8.0590 - val_acc: 0.5000\n",
            "\n",
            "Epoch 00012: val_acc did not improve from 0.50000\n",
            "Epoch 13/30\n",
            "13/13 [==============================] - 3s 266ms/step - loss: 8.0950 - acc: 0.4978 - val_loss: 8.0590 - val_acc: 0.5000\n",
            "\n",
            "Epoch 00013: val_acc did not improve from 0.50000\n",
            "Epoch 14/30\n",
            "13/13 [==============================] - 3s 265ms/step - loss: 8.0950 - acc: 0.4978 - val_loss: 8.0590 - val_acc: 0.5000\n",
            "\n",
            "Epoch 00014: val_acc did not improve from 0.50000\n",
            "Epoch 15/30\n",
            "13/13 [==============================] - 3s 266ms/step - loss: 7.9511 - acc: 0.5067 - val_loss: 8.0590 - val_acc: 0.5000\n",
            "\n",
            "Epoch 00015: val_acc did not improve from 0.50000\n",
            "Epoch 16/30\n",
            "13/13 [==============================] - 3s 266ms/step - loss: 8.0590 - acc: 0.5000 - val_loss: 8.0590 - val_acc: 0.5000\n",
            "\n",
            "Epoch 00016: val_acc did not improve from 0.50000\n",
            "Epoch 17/30\n",
            "13/13 [==============================] - 3s 264ms/step - loss: 8.1310 - acc: 0.4955 - val_loss: 8.0590 - val_acc: 0.5000\n",
            "\n",
            "Epoch 00017: val_acc did not improve from 0.50000\n",
            "Epoch 18/30\n",
            "13/13 [==============================] - 3s 266ms/step - loss: 7.9871 - acc: 0.5045 - val_loss: 8.0590 - val_acc: 0.5000\n",
            "\n",
            "Epoch 00018: val_acc did not improve from 0.50000\n",
            "Epoch 19/30\n",
            "13/13 [==============================] - 3s 265ms/step - loss: 8.1310 - acc: 0.4955 - val_loss: 8.0590 - val_acc: 0.5000\n",
            "\n",
            "Epoch 00019: val_acc did not improve from 0.50000\n",
            "Epoch 00019: early stopping\n"
          ],
          "name": "stdout"
        }
      ]
    },
    {
      "cell_type": "code",
      "metadata": {
        "id": "19qfoDRjnjmV",
        "colab_type": "code",
        "colab": {}
      },
      "source": [
        "model.save_weights('/content/drive/My Drive/โครงงานผื่น/RASH_INSPECTOR/ORGAN/hand/VGG16/hand_vgg16_weights.h5')"
      ],
      "execution_count": 0,
      "outputs": []
    },
    {
      "cell_type": "code",
      "metadata": {
        "id": "jD5fEioNnq6x",
        "colab_type": "code",
        "outputId": "4f9c4ffb-249f-4bdc-d643-5404ec53e3e5",
        "colab": {
          "base_uri": "https://localhost:8080/",
          "height": 51
        }
      },
      "source": [
        "model.load_weights(model_path)\n",
        "\n",
        "val_loss, val_acc = \\\n",
        "model.evaluate_generator(test_generator, \n",
        "                        steps=val_steps)\n",
        "\n",
        "print('val_loss:', val_loss)\n",
        "print('val_acc:', val_acc)"
      ],
      "execution_count": 0,
      "outputs": [
        {
          "output_type": "stream",
          "text": [
            "val_loss: 8.05904769897461\n",
            "val_acc: 0.5\n"
          ],
          "name": "stdout"
        }
      ]
    },
    {
      "cell_type": "code",
      "metadata": {
        "id": "E-MOGeJznsYt",
        "colab_type": "code",
        "outputId": "c9164618-e492-4655-d692-fe9b78075a4c",
        "colab": {
          "base_uri": "https://localhost:8080/",
          "height": 295
        }
      },
      "source": [
        "plt.plot(history.history['acc'])\n",
        "plt.plot(history.history['val_acc'])\n",
        "plt.ylabel('accuracy')\n",
        "plt.xlabel('epoch')\n",
        "plt.legend(['train', 'test'], loc='upper left')\n",
        "plt.title('accuracy')\n",
        "plt.show()"
      ],
      "execution_count": 0,
      "outputs": [
        {
          "output_type": "display_data",
          "data": {
            "image/png": "[encoded data removed]",
            "text/plain": [
              "<Figure size 432x288 with 1 Axes>"
            ]
          },
          "metadata": {
            "tags": []
          }
        }
      ]
    },
    {
      "cell_type": "code",
      "metadata": {
        "id": "xZA9G9runtXj",
        "colab_type": "code",
        "outputId": "3a155d87-deff-4599-a1e4-3346f9e034e6",
        "colab": {
          "base_uri": "https://localhost:8080/",
          "height": 295
        }
      },
      "source": [
        "plt.plot(history.history['loss'])\n",
        "plt.plot(history.history['val_loss'])\n",
        "plt.ylabel('loss')\n",
        "plt.xlabel('epoch')\n",
        "plt.legend(['train', 'test'], loc='upper left')\n",
        "plt.title('loss')\n",
        "plt.show()"
      ],
      "execution_count": 0,
      "outputs": [
        {
          "output_type": "display_data",
          "data": {
            "image/png": "[encoded data removed]",
            "text/plain": [
              "<Figure size 432x288 with 1 Axes>"
            ]
          },
          "metadata": {
            "tags": []
          }
        }
      ]
    },
    {
      "cell_type": "code",
      "metadata": {
        "id": "FW4cgAsLnuij",
        "colab_type": "code",
        "outputId": "2fb81317-2cde-4f01-c00b-91d591885e44",
        "colab": {
          "base_uri": "https://localhost:8080/",
          "height": 292
        }
      },
      "source": [
        "Y_pred = model.predict_generator(test_generator, num_test_files//batch_size+1)\n",
        "y_pred = np.argmax(Y_pred, axis=1)\n",
        "print('Confusion Matrix')\n",
        "print(confusion_matrix(test_generator.classes, y_pred))\n",
        "print('Classification Report')\n",
        "classes_names = ['AD', 'Other']\n",
        "print(classification_report(test_generator.classes, y_pred, target_names=classes_names))"
      ],
      "execution_count": 0,
      "outputs": [
        {
          "output_type": "stream",
          "text": [
            "Confusion Matrix\n",
            "[[25  0]\n",
            " [25  0]]\n",
            "Classification Report\n",
            "              precision    recall  f1-score   support\n",
            "\n",
            "          AD       0.50      1.00      0.67        25\n",
            "       Other       0.00      0.00      0.00        25\n",
            "\n",
            "    accuracy                           0.50        50\n",
            "   macro avg       0.25      0.50      0.33        50\n",
            "weighted avg       0.25      0.50      0.33        50\n",
            "\n"
          ],
          "name": "stdout"
        },
        {
          "output_type": "stream",
          "text": [
            "/usr/local/lib/python3.6/dist-packages/sklearn/metrics/classification.py:1437: UndefinedMetricWarning: Precision and F-score are ill-defined and being set to 0.0 in labels with no predicted samples.\n",
            "  'precision', 'predicted', average, warn_for)\n"
          ],
          "name": "stderr"
        }
      ]
    },
    {
      "cell_type": "code",
      "metadata": {
        "id": "dHRYf1DNnwIL",
        "colab_type": "code",
        "outputId": "a3339536-331b-4a64-f29b-76d29ca384ed",
        "colab": {
          "base_uri": "https://localhost:8080/",
          "height": 34
        }
      },
      "source": [
        "predictions = model.predict_generator(test_generator, steps=val_steps, verbose=1)"
      ],
      "execution_count": 0,
      "outputs": [
        {
          "output_type": "stream",
          "text": [
            "2/2 [==============================] - 0s 92ms/step\n"
          ],
          "name": "stdout"
        }
      ]
    },
    {
      "cell_type": "code",
      "metadata": {
        "id": "ONKwyNDQnxTW",
        "colab_type": "code",
        "colab": {}
      },
      "source": [
        "def plot_confusion_matrix(cm, classes, normalize=False, title='Confusion matrix', cmap=plt.cm.Blues):\n",
        "    \"\"\"\n",
        "    This function prints and plots the confusion matrix.\n",
        "    Normalization can be applied by setting `normalize=True`.\n",
        "    \"\"\"\n",
        "    if normalize:\n",
        "        cm = cm.astype('float') / cm.sum(axis=1)[:, np.newaxis]\n",
        "        print(\"Normalized confusion matrix\")\n",
        "    else:\n",
        "        print('Confusion matrix, without normalization')\n",
        "\n",
        "    print(cm)\n",
        "\n",
        "    plt.imshow(cm, interpolation='nearest', cmap=cmap)\n",
        "    plt.title(title)\n",
        "    plt.colorbar()\n",
        "    tick_marks = np.arange(len(classes))\n",
        "    plt.xticks(tick_marks, classes, rotation=45)\n",
        "    plt.yticks(tick_marks, classes)\n",
        "\n",
        "    fmt = '.2f' if normalize else 'd'\n",
        "    thresh = cm.max() / 2.\n",
        "    for i, j in itertools.product(range(cm.shape[0]), range(cm.shape[1])):\n",
        "        plt.text(j, i, format(cm[i, j], fmt),\n",
        "                 horizontalalignment=\"center\",\n",
        "                 color=\"white\" if cm[i, j] > thresh else \"black\")\n",
        "\n",
        "    plt.ylabel('True label')\n",
        "    plt.xlabel('Predicted label')\n",
        "    plt.tight_layout()"
      ],
      "execution_count": 0,
      "outputs": []
    },
    {
      "cell_type": "code",
      "metadata": {
        "id": "OVkfImf9nySv",
        "colab_type": "code",
        "colab": {}
      },
      "source": [
        "cm_plot_labels = ['AD', 'Other']"
      ],
      "execution_count": 0,
      "outputs": []
    },
    {
      "cell_type": "code",
      "metadata": {
        "id": "1ANvgqysnzPL",
        "colab_type": "code",
        "outputId": "22d69100-459f-4fd7-e985-cd34d296dc8f",
        "colab": {
          "base_uri": "https://localhost:8080/",
          "height": 348
        }
      },
      "source": [
        "cm = confusion_matrix(test_generator.classes, predictions.argmax(axis=1))\n",
        "plot_confusion_matrix(cm, cm_plot_labels)"
      ],
      "execution_count": 0,
      "outputs": [
        {
          "output_type": "stream",
          "text": [
            "Confusion matrix, without normalization\n",
            "[[25  0]\n",
            " [25  0]]\n"
          ],
          "name": "stdout"
        },
        {
          "output_type": "display_data",
          "data": {
            "image/png": "[encoded data removed]",
            "text/plain": [
              "<Figure size 432x288 with 2 Axes>"
            ]
          },
          "metadata": {
            "tags": []
          }
        }
      ]
    }
  ]
}