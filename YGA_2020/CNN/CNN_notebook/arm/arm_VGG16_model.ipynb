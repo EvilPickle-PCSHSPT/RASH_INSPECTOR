{
  "nbformat": 4,
  "nbformat_minor": 0,
  "metadata": {
    "colab": {
      "name": "VGG16_model.ipynb",
      "provenance": [],
      "collapsed_sections": [],
      "include_colab_link": true
    },
    "kernelspec": {
      "name": "python3",
      "display_name": "Python 3"
    },
    "accelerator": "GPU"
  },
  "cells": [
    {
      "cell_type": "markdown",
      "metadata": {
        "id": "view-in-github",
        "colab_type": "text"
      },
      "source": [
        "<a href=\"https://colab.research.google.com/github/filmer2002/RASH_INSPECTOR/blob/master/arm_VGG16_model.ipynb\" target=\"_parent\"><img src=\"https://colab.research.google.com/assets/colab-badge.svg\" alt=\"Open In Colab\"/></a>"
      ]
    },
    {
      "cell_type": "markdown",
      "metadata": {
        "id": "IZtwv4WuBvk1",
        "colab_type": "text"
      },
      "source": [
        "#**VGG16**\n",
        "Let's implement !!!"
      ]
    },
    {
      "cell_type": "code",
      "metadata": {
        "id": "cAdAXFoSA8rf",
        "colab_type": "code",
        "outputId": "9ec599df-3556-420f-c9e0-e2c820705ede",
        "colab": {
          "base_uri": "https://localhost:8080/",
          "height": 80
        }
      },
      "source": [
        "import tensorflow as tf\n",
        "import keras\n",
        "from keras import models\n",
        "from keras.models import Sequential, Model\n",
        "from keras.layers.core import Dense, Dropout, Activation, Flatten\n",
        "from keras.layers.convolutional import Convolution2D, MaxPooling2D\n",
        "from keras.preprocessing.image import ImageDataGenerator, load_img, img_to_array\n",
        "from keras.applications.vgg16 import VGG16\n",
        "from keras.applications.imagenet_utils import preprocess_input\n",
        "from keras.preprocessing import image\n",
        "from keras.optimizers import Adam\n",
        "from keras.callbacks import EarlyStopping, ReduceLROnPlateau, ModelCheckpoint\n",
        "from sklearn.metrics import classification_report, confusion_matrix, precision_recall_fscore_support\n",
        "from vis.utils import utils\n",
        "import itertools\n",
        "import matplotlib.pyplot as plt\n",
        "import matplotlib.image as mpimg\n",
        "import numpy as np\n",
        "import PIL\n",
        "import cv2"
      ],
      "execution_count": 0,
      "outputs": [
        {
          "output_type": "display_data",
          "data": {
            "text/html": [
              "<p style=\"color: red;\">\n",
              "The default version of TensorFlow in Colab will soon switch to TensorFlow 2.x.<br>\n",
              "We recommend you <a href=\"https://www.tensorflow.org/guide/migrate\" target=\"_blank\">upgrade</a> now \n",
              "or ensure your notebook will continue to use TensorFlow 1.x via the <code>%tensorflow_version 1.x</code> magic:\n",
              "<a href=\"https://colab.research.google.com/notebooks/tensorflow_version.ipynb\" target=\"_blank\">more info</a>.</p>\n"
            ],
            "text/plain": [
              "<IPython.core.display.HTML object>"
            ]
          },
          "metadata": {
            "tags": []
          }
        },
        {
          "output_type": "stream",
          "text": [
            "Using TensorFlow backend.\n"
          ],
          "name": "stderr"
        }
      ]
    },
    {
      "cell_type": "code",
      "metadata": {
        "id": "IllhdcjVBu0h",
        "colab_type": "code",
        "outputId": "64596c97-c47a-4771-98e7-79da6f719ca4",
        "colab": {
          "base_uri": "https://localhost:8080/",
          "height": 122
        }
      },
      "source": [
        "from google.colab import drive\n",
        "drive.mount('/content/drive')"
      ],
      "execution_count": 0,
      "outputs": [
        {
          "output_type": "stream",
          "text": [
            "Go to this URL in a browser: https://accounts.google.com/o/oauth2/auth?client_id=947318989803-6bn6qk8qdgf4n4g3pfee6491hc0brc4i.apps.googleusercontent.com&redirect_uri=urn%3aietf%3awg%3aoauth%3a2.0%3aoob&response_type=code&scope=email%20https%3a%2f%2fwww.googleapis.com%2fauth%2fdocs.test%20https%3a%2f%2fwww.googleapis.com%2fauth%2fdrive%20https%3a%2f%2fwww.googleapis.com%2fauth%2fdrive.photos.readonly%20https%3a%2f%2fwww.googleapis.com%2fauth%2fpeopleapi.readonly\n",
            "\n",
            "Enter your authorization code:\n",
            "··········\n",
            "Mounted at /content/drive\n"
          ],
          "name": "stdout"
        }
      ]
    },
    {
      "cell_type": "code",
      "metadata": {
        "id": "E7A3dTrEB2fM",
        "colab_type": "code",
        "outputId": "aab591fd-0377-43ab-cc54-bd7d2d251668",
        "colab": {
          "base_uri": "https://localhost:8080/",
          "height": 119
        }
      },
      "source": [
        "!git clone https://github.com/filmer2002/RASH_INSPECTOR_data"
      ],
      "execution_count": 0,
      "outputs": [
        {
          "output_type": "stream",
          "text": [
            "Cloning into 'RASH_INSPECTOR_data'...\n",
            "remote: Enumerating objects: 4594, done.\u001b[K\n",
            "remote: Counting objects:   0% (1/4594)\u001b[K\rremote: Counting objects:   1% (46/4594)\u001b[K\rremote: Counting objects:   2% (92/4594)\u001b[K\rremote: Counting objects:   3% (138/4594)\u001b[K\rremote: Counting objects:   4% (184/4594)\u001b[K\rremote: Counting objects:   5% (230/4594)\u001b[K\rremote: Counting objects:   6% (276/4594)\u001b[K\rremote: Counting objects:   7% (322/4594)\u001b[K\rremote: Counting objects:   8% (368/4594)\u001b[K\rremote: Counting objects:   9% (414/4594)\u001b[K\rremote: Counting objects:  10% (460/4594)\u001b[K\rremote: Counting objects:  11% (506/4594)\u001b[K\rremote: Counting objects:  12% (552/4594)\u001b[K\rremote: Counting objects:  13% (598/4594)\u001b[K\rremote: Counting objects:  14% (644/4594)\u001b[K\rremote: Counting objects:  15% (690/4594)\u001b[K\rremote: Counting objects:  16% (736/4594)\u001b[K\rremote: Counting objects:  17% (781/4594)\u001b[K\rremote: Counting objects:  18% (827/4594)\u001b[K\rremote: Counting objects:  19% (873/4594)\u001b[K\rremote: Counting objects:  20% (919/4594)\u001b[K\rremote: Counting objects:  21% (965/4594)\u001b[K\rremote: Counting objects:  22% (1011/4594)\u001b[K\rremote: Counting objects:  23% (1057/4594)\u001b[K\rremote: Counting objects:  24% (1103/4594)\u001b[K\rremote: Counting objects:  25% (1149/4594)\u001b[K\rremote: Counting objects:  26% (1195/4594)\u001b[K\rremote: Counting objects:  27% (1241/4594)\u001b[K\rremote: Counting objects:  28% (1287/4594)\u001b[K\rremote: Counting objects:  29% (1333/4594)\u001b[K\rremote: Counting objects:  30% (1379/4594)\u001b[K\rremote: Counting objects:  31% (1425/4594)\u001b[K\rremote: Counting objects:  32% (1471/4594)\u001b[K\rremote: Counting objects:  33% (1517/4594)\u001b[K\rremote: Counting objects:  34% (1562/4594)\u001b[K\rremote: Counting objects:  35% (1608/4594)\u001b[K\rremote: Counting objects:  36% (1654/4594)\u001b[K\rremote: Counting objects:  37% (1700/4594)\u001b[K\rremote: Counting objects:  38% (1746/4594)\u001b[K\rremote: Counting objects:  39% (1792/4594)\u001b[K\rremote: Counting objects:  40% (1838/4594)\u001b[K\rremote: Counting objects:  41% (1884/4594)\u001b[K\rremote: Counting objects:  42% (1930/4594)\u001b[K\rremote: Counting objects:  43% (1976/4594)\u001b[K\rremote: Counting objects:  44% (2022/4594)\u001b[K\rremote: Counting objects:  45% (2068/4594)\u001b[K\rremote: Counting objects:  46% (2114/4594)\u001b[K\rremote: Counting objects:  47% (2160/4594)\u001b[K\rremote: Counting objects:  48% (2206/4594)\u001b[K\rremote: Counting objects:  49% (2252/4594)\u001b[K\rremote: Counting objects:  50% (2297/4594)\u001b[K\rremote: Counting objects:  51% (2343/4594)\u001b[K\rremote: Counting objects:  52% (2389/4594)\u001b[K\rremote: Counting objects:  53% (2435/4594)\u001b[K\rremote: Counting objects:  54% (2481/4594)\u001b[K\rremote: Counting objects:  55% (2527/4594)\u001b[K\rremote: Counting objects:  56% (2573/4594)\u001b[K\rremote: Counting objects:  57% (2619/4594)\u001b[K\rremote: Counting objects:  58% (2665/4594)\u001b[K\rremote: Counting objects:  59% (2711/4594)\u001b[K\rremote: Counting objects:  60% (2757/4594)\u001b[K\rremote: Counting objects:  61% (2803/4594)\u001b[K\rremote: Counting objects:  62% (2849/4594)\u001b[K\rremote: Counting objects:  63% (2895/4594)\u001b[K\rremote: Counting objects:  64% (2941/4594)\u001b[K\rremote: Counting objects:  65% (2987/4594)\u001b[K\rremote: Counting objects:  66% (3033/4594)\u001b[K\rremote: Counting objects:  67% (3078/4594)\u001b[K\rremote: Counting objects:  68% (3124/4594)\u001b[K\rremote: Counting objects:  69% (3170/4594)\u001b[K\rremote: Counting objects:  70% (3216/4594)\u001b[K\rremote: Counting objects:  71% (3262/4594)\u001b[K\rremote: Counting objects:  72% (3308/4594)\u001b[K\rremote: Counting objects:  73% (3354/4594)\u001b[K\rremote: Counting objects:  74% (3400/4594)\u001b[K\rremote: Counting objects:  75% (3446/4594)\u001b[K\rremote: Counting objects:  76% (3492/4594)\u001b[K\rremote: Counting objects:  77% (3538/4594)\u001b[K\rremote: Counting objects:  78% (3584/4594)\u001b[K\rremote: Counting objects:  79% (3630/4594)\u001b[K\rremote: Counting objects:  80% (3676/4594)\u001b[K\rremote: Counting objects:  81% (3722/4594)\u001b[K\rremote: Counting objects:  82% (3768/4594)\u001b[K\rremote: Counting objects:  83% (3814/4594)\u001b[K\rremote: Counting objects:  84% (3859/4594)\u001b[K\rremote: Counting objects:  85% (3905/4594)\u001b[K\rremote: Counting objects:  86% (3951/4594)\u001b[K\rremote: Counting objects:  87% (3997/4594)\u001b[K\rremote: Counting objects:  88% (4043/4594)\u001b[K\rremote: Counting objects:  89% (4089/4594)\u001b[K\rremote: Counting objects:  90% (4135/4594)\u001b[K\rremote: Counting objects:  91% (4181/4594)\u001b[K\rremote: Counting objects:  92% (4227/4594)\u001b[K\rremote: Counting objects:  93% (4273/4594)\u001b[K\rremote: Counting objects:  94% (4319/4594)\u001b[K\rremote: Counting objects:  95% (4365/4594)\u001b[K\rremote: Counting objects:  96% (4411/4594)\u001b[K\rremote: Counting objects:  97% (4457/4594)\u001b[K\rremote: Counting objects:  98% (4503/4594)\u001b[K\rremote: Counting objects:  99% (4549/4594)\u001b[K\rremote: Counting objects: 100% (4594/4594)\u001b[K\rremote: Counting objects: 100% (4594/4594), done.\u001b[K\n",
            "remote: Compressing objects: 100% (4594/4594), done.\u001b[K\n",
            "remote: Total 4594 (delta 0), reused 4594 (delta 0), pack-reused 0\u001b[K\n",
            "Receiving objects: 100% (4594/4594), 43.82 MiB | 11.34 MiB/s, done.\n"
          ],
          "name": "stdout"
        }
      ]
    },
    {
      "cell_type": "code",
      "metadata": {
        "id": "BmBcmnKnDSs_",
        "colab_type": "code",
        "colab": {}
      },
      "source": [
        "train_path = '/content/RASH_INSPECTOR_data/arm/train'\n",
        "val_path = '/content/RASH_INSPECTOR_data/arm/val'\n",
        "test_path = '/content/RASH_INSPECTOR_data/arm/test'"
      ],
      "execution_count": 0,
      "outputs": []
    },
    {
      "cell_type": "code",
      "metadata": {
        "id": "6A5wULygDUDf",
        "colab_type": "code",
        "colab": {}
      },
      "source": [
        "img_size = 224\n",
        "epochs = 30\n",
        "batch_size = 32"
      ],
      "execution_count": 0,
      "outputs": []
    },
    {
      "cell_type": "code",
      "metadata": {
        "id": "bhHJbOKVDVVb",
        "colab_type": "code",
        "colab": {}
      },
      "source": [
        "train_norm = ImageDataGenerator(rescale=1. / 255) \n",
        "val_norm = ImageDataGenerator(rescale=1. / 255) \n",
        "test_norm = ImageDataGenerator(rescale=1. / 255) "
      ],
      "execution_count": 0,
      "outputs": []
    },
    {
      "cell_type": "code",
      "metadata": {
        "id": "ccV_8U52DWkt",
        "colab_type": "code",
        "outputId": "5c704d6f-f801-4e9e-c779-72b6c450e851",
        "colab": {
          "base_uri": "https://localhost:8080/",
          "height": 68
        }
      },
      "source": [
        "train_generator = train_norm.flow_from_directory( \n",
        "    train_path, \n",
        "    target_size=(img_size, img_size), \n",
        "    batch_size=batch_size)\n",
        "\n",
        "val_generator = val_norm.flow_from_directory( \n",
        "    val_path, \n",
        "    target_size=(img_size, img_size), \n",
        "    batch_size=batch_size)\n",
        "\n",
        "test_generator = test_norm.flow_from_directory( \n",
        "    test_path, \n",
        "    target_size=(img_size, img_size), \n",
        "    batch_size=batch_size,\n",
        "    shuffle=False)"
      ],
      "execution_count": 0,
      "outputs": [
        {
          "output_type": "stream",
          "text": [
            "Found 720 images belonging to 2 classes.\n",
            "Found 90 images belonging to 2 classes.\n",
            "Found 90 images belonging to 2 classes.\n"
          ],
          "name": "stdout"
        }
      ]
    },
    {
      "cell_type": "code",
      "metadata": {
        "id": "3wyCRDpSDpcW",
        "colab_type": "code",
        "outputId": "5d5f0828-8dbd-42df-e956-2e39b3964d7b",
        "colab": {
          "base_uri": "https://localhost:8080/",
          "height": 68
        }
      },
      "source": [
        "num_train_files = len(train_generator.filenames)\n",
        "num_train_classes = len(train_generator.class_indices)\n",
        "print('num_train_files', num_train_files, '&', 'num_train_classes', num_train_classes )\n",
        "\n",
        "num_val_files = len(val_generator.filenames)\n",
        "num_val_classes = len(val_generator.class_indices)\n",
        "print('num_val_files', num_val_files, '&', 'num_val_classes', num_val_classes )\n",
        "\n",
        "num_test_files = len(test_generator.filenames)\n",
        "num_test_classes = len(test_generator.class_indices)\n",
        "print('num_test_files', num_test_files, '&', 'num_test_classes', num_test_classes )"
      ],
      "execution_count": 0,
      "outputs": [
        {
          "output_type": "stream",
          "text": [
            "num_train_files 720 & num_train_classes 2\n",
            "num_val_files 90 & num_val_classes 2\n",
            "num_test_files 90 & num_test_classes 2\n"
          ],
          "name": "stdout"
        }
      ]
    },
    {
      "cell_type": "code",
      "metadata": {
        "id": "DZqIxtgLDrBL",
        "colab_type": "code",
        "colab": {}
      },
      "source": [
        "train_steps = np.ceil(num_train_files/batch_size)\n",
        "val_steps = np.ceil(num_val_files/batch_size)"
      ],
      "execution_count": 0,
      "outputs": []
    },
    {
      "cell_type": "code",
      "metadata": {
        "id": "aMkJLzpYDsdf",
        "colab_type": "code",
        "outputId": "a3645847-cc75-43f0-bcef-9b57294898db",
        "colab": {
          "base_uri": "https://localhost:8080/",
          "height": 411
        }
      },
      "source": [
        "model = VGG16(weights='imagenet')"
      ],
      "execution_count": 0,
      "outputs": [
        {
          "output_type": "stream",
          "text": [
            "WARNING:tensorflow:From /usr/local/lib/python3.6/dist-packages/keras/backend/tensorflow_backend.py:66: The name tf.get_default_graph is deprecated. Please use tf.compat.v1.get_default_graph instead.\n",
            "\n",
            "WARNING:tensorflow:From /usr/local/lib/python3.6/dist-packages/keras/backend/tensorflow_backend.py:541: The name tf.placeholder is deprecated. Please use tf.compat.v1.placeholder instead.\n",
            "\n",
            "WARNING:tensorflow:From /usr/local/lib/python3.6/dist-packages/keras/backend/tensorflow_backend.py:4432: The name tf.random_uniform is deprecated. Please use tf.random.uniform instead.\n",
            "\n",
            "WARNING:tensorflow:From /usr/local/lib/python3.6/dist-packages/keras/backend/tensorflow_backend.py:4267: The name tf.nn.max_pool is deprecated. Please use tf.nn.max_pool2d instead.\n",
            "\n",
            "Downloading data from https://github.com/fchollet/deep-learning-models/releases/download/v0.1/vgg16_weights_tf_dim_ordering_tf_kernels.h5\n",
            "553467904/553467096 [==============================] - 36s 0us/step\n",
            "WARNING:tensorflow:From /usr/local/lib/python3.6/dist-packages/keras/backend/tensorflow_backend.py:190: The name tf.get_default_session is deprecated. Please use tf.compat.v1.get_default_session instead.\n",
            "\n",
            "WARNING:tensorflow:From /usr/local/lib/python3.6/dist-packages/keras/backend/tensorflow_backend.py:197: The name tf.ConfigProto is deprecated. Please use tf.compat.v1.ConfigProto instead.\n",
            "\n",
            "WARNING:tensorflow:From /usr/local/lib/python3.6/dist-packages/keras/backend/tensorflow_backend.py:203: The name tf.Session is deprecated. Please use tf.compat.v1.Session instead.\n",
            "\n",
            "WARNING:tensorflow:From /usr/local/lib/python3.6/dist-packages/keras/backend/tensorflow_backend.py:207: The name tf.global_variables is deprecated. Please use tf.compat.v1.global_variables instead.\n",
            "\n",
            "WARNING:tensorflow:From /usr/local/lib/python3.6/dist-packages/keras/backend/tensorflow_backend.py:216: The name tf.is_variable_initialized is deprecated. Please use tf.compat.v1.is_variable_initialized instead.\n",
            "\n",
            "WARNING:tensorflow:From /usr/local/lib/python3.6/dist-packages/keras/backend/tensorflow_backend.py:223: The name tf.variables_initializer is deprecated. Please use tf.compat.v1.variables_initializer instead.\n",
            "\n"
          ],
          "name": "stdout"
        }
      ]
    },
    {
      "cell_type": "code",
      "metadata": {
        "id": "MNMGKHolDuSP",
        "colab_type": "code",
        "colab": {}
      },
      "source": [
        "x = model.layers[-2].output\n",
        "predictions = Dense(num_train_classes, activation='softmax')(x)\n",
        "model = Model(inputs=model.input, outputs=predictions)"
      ],
      "execution_count": 0,
      "outputs": []
    },
    {
      "cell_type": "code",
      "metadata": {
        "id": "mdAcPxgaDwIp",
        "colab_type": "code",
        "outputId": "931d3a61-60de-43db-fece-4c6625c837b7",
        "colab": {
          "base_uri": "https://localhost:8080/",
          "height": 935
        }
      },
      "source": [
        "model.summary()"
      ],
      "execution_count": 0,
      "outputs": [
        {
          "output_type": "stream",
          "text": [
            "Model: \"model_1\"\n",
            "_________________________________________________________________\n",
            "Layer (type)                 Output Shape              Param #   \n",
            "=================================================================\n",
            "input_1 (InputLayer)         (None, 224, 224, 3)       0         \n",
            "_________________________________________________________________\n",
            "block1_conv1 (Conv2D)        (None, 224, 224, 64)      1792      \n",
            "_________________________________________________________________\n",
            "block1_conv2 (Conv2D)        (None, 224, 224, 64)      36928     \n",
            "_________________________________________________________________\n",
            "block1_pool (MaxPooling2D)   (None, 112, 112, 64)      0         \n",
            "_________________________________________________________________\n",
            "block2_conv1 (Conv2D)        (None, 112, 112, 128)     73856     \n",
            "_________________________________________________________________\n",
            "block2_conv2 (Conv2D)        (None, 112, 112, 128)     147584    \n",
            "_________________________________________________________________\n",
            "block2_pool (MaxPooling2D)   (None, 56, 56, 128)       0         \n",
            "_________________________________________________________________\n",
            "block3_conv1 (Conv2D)        (None, 56, 56, 256)       295168    \n",
            "_________________________________________________________________\n",
            "block3_conv2 (Conv2D)        (None, 56, 56, 256)       590080    \n",
            "_________________________________________________________________\n",
            "block3_conv3 (Conv2D)        (None, 56, 56, 256)       590080    \n",
            "_________________________________________________________________\n",
            "block3_pool (MaxPooling2D)   (None, 28, 28, 256)       0         \n",
            "_________________________________________________________________\n",
            "block4_conv1 (Conv2D)        (None, 28, 28, 512)       1180160   \n",
            "_________________________________________________________________\n",
            "block4_conv2 (Conv2D)        (None, 28, 28, 512)       2359808   \n",
            "_________________________________________________________________\n",
            "block4_conv3 (Conv2D)        (None, 28, 28, 512)       2359808   \n",
            "_________________________________________________________________\n",
            "block4_pool (MaxPooling2D)   (None, 14, 14, 512)       0         \n",
            "_________________________________________________________________\n",
            "block5_conv1 (Conv2D)        (None, 14, 14, 512)       2359808   \n",
            "_________________________________________________________________\n",
            "block5_conv2 (Conv2D)        (None, 14, 14, 512)       2359808   \n",
            "_________________________________________________________________\n",
            "block5_conv3 (Conv2D)        (None, 14, 14, 512)       2359808   \n",
            "_________________________________________________________________\n",
            "block5_pool (MaxPooling2D)   (None, 7, 7, 512)         0         \n",
            "_________________________________________________________________\n",
            "flatten (Flatten)            (None, 25088)             0         \n",
            "_________________________________________________________________\n",
            "fc1 (Dense)                  (None, 4096)              102764544 \n",
            "_________________________________________________________________\n",
            "fc2 (Dense)                  (None, 4096)              16781312  \n",
            "_________________________________________________________________\n",
            "dense_1 (Dense)              (None, 2)                 8194      \n",
            "=================================================================\n",
            "Total params: 134,268,738\n",
            "Trainable params: 134,268,738\n",
            "Non-trainable params: 0\n",
            "_________________________________________________________________\n"
          ],
          "name": "stdout"
        }
      ]
    },
    {
      "cell_type": "code",
      "metadata": {
        "id": "Ljcvh1tBDw9M",
        "colab_type": "code",
        "outputId": "4679b778-452e-4641-8626-c2d5b1427554",
        "colab": {
          "base_uri": "https://localhost:8080/",
          "height": 105
        }
      },
      "source": [
        "model.compile(Adam(lr=0.01), \n",
        "              loss='categorical_crossentropy', \n",
        "              metrics=['accuracy'])"
      ],
      "execution_count": 0,
      "outputs": [
        {
          "output_type": "stream",
          "text": [
            "WARNING:tensorflow:From /usr/local/lib/python3.6/dist-packages/keras/optimizers.py:793: The name tf.train.Optimizer is deprecated. Please use tf.compat.v1.train.Optimizer instead.\n",
            "\n",
            "WARNING:tensorflow:From /usr/local/lib/python3.6/dist-packages/keras/backend/tensorflow_backend.py:3576: The name tf.log is deprecated. Please use tf.math.log instead.\n",
            "\n"
          ],
          "name": "stdout"
        }
      ]
    },
    {
      "cell_type": "code",
      "metadata": {
        "id": "XohNWYdMDzsf",
        "colab_type": "code",
        "colab": {}
      },
      "source": [
        "model_path = '/content/drive/My Drive/โครงงานผื่น/RASH_INSPECTOR/ORGAN/arm/VGG16/arm_vgg16_model.h5'"
      ],
      "execution_count": 0,
      "outputs": []
    },
    {
      "cell_type": "code",
      "metadata": {
        "id": "vhAtGosoD2aB",
        "colab_type": "code",
        "colab": {}
      },
      "source": [
        "checkpoint = ModelCheckpoint(model_path, monitor='val_acc', verbose=1,\n",
        "                             save_best_only=True, mode='max')"
      ],
      "execution_count": 0,
      "outputs": []
    },
    {
      "cell_type": "code",
      "metadata": {
        "id": "sWRn4gspD6pm",
        "colab_type": "code",
        "colab": {}
      },
      "source": [
        "early_stop = EarlyStopping(monitor='val_loss', mode='min', verbose=1, patience=10)"
      ],
      "execution_count": 0,
      "outputs": []
    },
    {
      "cell_type": "code",
      "metadata": {
        "id": "FmXwyvMvD7lg",
        "colab_type": "code",
        "colab": {}
      },
      "source": [
        "reduce_lr = ReduceLROnPlateau(monitor='val_loss', factor=0.2, patience=2,\n",
        "                              verbose=1, mode='max', min_lr=0.00001)"
      ],
      "execution_count": 0,
      "outputs": []
    },
    {
      "cell_type": "code",
      "metadata": {
        "id": "wJXyVznnD98Z",
        "colab_type": "code",
        "colab": {}
      },
      "source": [
        "log_dir = '/content/drive/My Drive/โครงงานผื่น/RASH_INSPECTOR/ORGAN/arm/VGG16/tf-log/'\n",
        "tb_cb = keras.callbacks.TensorBoard(log_dir=log_dir, histogram_freq=0, batch_size=32, write_graph=True, write_grads=False, write_images=False, embeddings_freq=0, embeddings_layer_names=None, embeddings_metadata=None, embeddings_data=None, update_freq='epoch')"
      ],
      "execution_count": 0,
      "outputs": []
    },
    {
      "cell_type": "code",
      "metadata": {
        "id": "ehhEZxOaEAK1",
        "colab_type": "code",
        "colab": {}
      },
      "source": [
        "cb_list = [checkpoint, early_stop, reduce_lr, tb_cb]"
      ],
      "execution_count": 0,
      "outputs": []
    },
    {
      "cell_type": "code",
      "metadata": {
        "id": "YG7Wgge2EBxc",
        "colab_type": "code",
        "outputId": "2a67f390-adc9-439a-cccc-5280556a38d7",
        "colab": {
          "base_uri": "https://localhost:8080/",
          "height": 1000
        }
      },
      "source": [
        "history = model.fit_generator(train_generator,\n",
        "                              steps_per_epoch=train_steps,\n",
        "                              validation_data=val_generator,\n",
        "                              validation_steps=val_steps,\n",
        "                              epochs=epochs,\n",
        "                              verbose=1,\n",
        "                              callbacks=cb_list)"
      ],
      "execution_count": 0,
      "outputs": [
        {
          "output_type": "stream",
          "text": [
            "WARNING:tensorflow:From /usr/local/lib/python3.6/dist-packages/tensorflow_core/python/ops/math_grad.py:1424: where (from tensorflow.python.ops.array_ops) is deprecated and will be removed in a future version.\n",
            "Instructions for updating:\n",
            "Use tf.where in 2.0, which has the same broadcast rule as np.where\n",
            "WARNING:tensorflow:From /usr/local/lib/python3.6/dist-packages/keras/backend/tensorflow_backend.py:1033: The name tf.assign_add is deprecated. Please use tf.compat.v1.assign_add instead.\n",
            "\n",
            "WARNING:tensorflow:From /usr/local/lib/python3.6/dist-packages/keras/backend/tensorflow_backend.py:1020: The name tf.assign is deprecated. Please use tf.compat.v1.assign instead.\n",
            "\n",
            "WARNING:tensorflow:From /usr/local/lib/python3.6/dist-packages/keras/callbacks.py:1122: The name tf.summary.merge_all is deprecated. Please use tf.compat.v1.summary.merge_all instead.\n",
            "\n",
            "WARNING:tensorflow:From /usr/local/lib/python3.6/dist-packages/keras/callbacks.py:1125: The name tf.summary.FileWriter is deprecated. Please use tf.compat.v1.summary.FileWriter instead.\n",
            "\n",
            "Epoch 1/30\n",
            "23/23 [==============================] - 39s 2s/step - loss: 7.8248 - acc: 0.4934 - val_loss: 8.0590 - val_acc: 0.5000\n",
            "\n",
            "Epoch 00001: val_acc improved from -inf to 0.50000, saving model to /content/drive/My Drive/โครงงานผื่น/RASH_INSPECTOR/ORGAN/arm/VGG16/arm_vgg16_model.h5\n",
            "WARNING:tensorflow:From /usr/local/lib/python3.6/dist-packages/keras/callbacks.py:1265: The name tf.Summary is deprecated. Please use tf.compat.v1.Summary instead.\n",
            "\n",
            "Epoch 2/30\n",
            "23/23 [==============================] - 22s 962ms/step - loss: 7.9961 - acc: 0.5039 - val_loss: 8.0590 - val_acc: 0.5000\n",
            "\n",
            "Epoch 00002: val_acc did not improve from 0.50000\n",
            "Epoch 3/30\n",
            "23/23 [==============================] - 22s 961ms/step - loss: 8.0381 - acc: 0.5013 - val_loss: 8.0590 - val_acc: 0.5000\n",
            "\n",
            "Epoch 00003: val_acc improved from 0.50000 to 0.50000, saving model to /content/drive/My Drive/โครงงานผื่น/RASH_INSPECTOR/ORGAN/arm/VGG16/arm_vgg16_model.h5\n",
            "\n",
            "Epoch 00003: ReduceLROnPlateau reducing learning rate to 0.0019999999552965165.\n",
            "Epoch 4/30\n",
            "23/23 [==============================] - 22s 966ms/step - loss: 8.0171 - acc: 0.5026 - val_loss: 8.0590 - val_acc: 0.5000\n",
            "\n",
            "Epoch 00004: val_acc did not improve from 0.50000\n",
            "Epoch 5/30\n",
            "23/23 [==============================] - 22s 965ms/step - loss: 8.0171 - acc: 0.5026 - val_loss: 8.0590 - val_acc: 0.5000\n",
            "\n",
            "Epoch 00005: val_acc did not improve from 0.50000\n",
            "\n",
            "Epoch 00005: ReduceLROnPlateau reducing learning rate to 0.0003999999724328518.\n",
            "Epoch 6/30\n",
            "23/23 [==============================] - 22s 963ms/step - loss: 8.0590 - acc: 0.5000 - val_loss: 8.0590 - val_acc: 0.5000\n",
            "\n",
            "Epoch 00006: val_acc did not improve from 0.50000\n",
            "Epoch 7/30\n",
            "23/23 [==============================] - 22s 962ms/step - loss: 8.0381 - acc: 0.5013 - val_loss: 8.0590 - val_acc: 0.5000\n",
            "\n",
            "Epoch 00007: val_acc did not improve from 0.50000\n",
            "\n",
            "Epoch 00007: ReduceLROnPlateau reducing learning rate to 7.999999215826393e-05.\n",
            "Epoch 8/30\n",
            "23/23 [==============================] - 22s 962ms/step - loss: 8.0381 - acc: 0.5013 - val_loss: 8.0590 - val_acc: 0.5000\n",
            "\n",
            "Epoch 00008: val_acc did not improve from 0.50000\n",
            "Epoch 9/30\n",
            "23/23 [==============================] - 22s 962ms/step - loss: 8.0800 - acc: 0.4987 - val_loss: 8.0590 - val_acc: 0.5000\n",
            "\n",
            "Epoch 00009: val_acc did not improve from 0.50000\n",
            "\n",
            "Epoch 00009: ReduceLROnPlateau reducing learning rate to 1.599999814061448e-05.\n",
            "Epoch 10/30\n",
            "23/23 [==============================] - 22s 961ms/step - loss: 8.0800 - acc: 0.4987 - val_loss: 8.0590 - val_acc: 0.5000\n",
            "\n",
            "Epoch 00010: val_acc improved from 0.50000 to 0.50000, saving model to /content/drive/My Drive/โครงงานผื่น/RASH_INSPECTOR/ORGAN/arm/VGG16/arm_vgg16_model.h5\n",
            "Epoch 11/30\n",
            "23/23 [==============================] - 22s 964ms/step - loss: 8.1010 - acc: 0.4974 - val_loss: 8.0590 - val_acc: 0.5000\n",
            "\n",
            "Epoch 00011: val_acc did not improve from 0.50000\n",
            "\n",
            "Epoch 00011: ReduceLROnPlateau reducing learning rate to 1e-05.\n",
            "Epoch 12/30\n",
            "23/23 [==============================] - 22s 963ms/step - loss: 7.9961 - acc: 0.5039 - val_loss: 8.0590 - val_acc: 0.5000\n",
            "\n",
            "Epoch 00012: val_acc did not improve from 0.50000\n",
            "Epoch 00012: early stopping\n"
          ],
          "name": "stdout"
        }
      ]
    },
    {
      "cell_type": "code",
      "metadata": {
        "id": "PnS-Ny8rECgB",
        "colab_type": "code",
        "colab": {}
      },
      "source": [
        "model.save_weights('/content/drive/My Drive/โครงงานผื่น/RASH_INSPECTOR/ORGAN/arm/VGG16/arm_vgg16_weights.h5')"
      ],
      "execution_count": 0,
      "outputs": []
    },
    {
      "cell_type": "code",
      "metadata": {
        "id": "dqkQFoU1EGKf",
        "colab_type": "code",
        "outputId": "91ccaafc-74d6-44ec-ac2d-1bf27ee92471",
        "colab": {
          "base_uri": "https://localhost:8080/",
          "height": 51
        }
      },
      "source": [
        "model.load_weights(model_path)\n",
        "\n",
        "val_loss, val_acc = \\\n",
        "model.evaluate_generator(test_generator, \n",
        "                        steps=val_steps)\n",
        "\n",
        "print('val_loss:', val_loss)\n",
        "print('val_acc:', val_acc)"
      ],
      "execution_count": 0,
      "outputs": [
        {
          "output_type": "stream",
          "text": [
            "val_loss: 8.059047656589089\n",
            "val_acc: 0.5\n"
          ],
          "name": "stdout"
        }
      ]
    },
    {
      "cell_type": "code",
      "metadata": {
        "id": "fPkMTmqQEKgm",
        "colab_type": "code",
        "outputId": "8bdf3925-9d3d-42af-fe01-d03b5397b983",
        "colab": {
          "base_uri": "https://localhost:8080/",
          "height": 295
        }
      },
      "source": [
        "plt.plot(history.history['acc'])\n",
        "plt.plot(history.history['val_acc'])\n",
        "plt.ylabel('accuracy')\n",
        "plt.xlabel('epoch')\n",
        "plt.legend(['train', 'test'], loc='upper left')\n",
        "plt.title('accuracy')\n",
        "plt.show()"
      ],
      "execution_count": 0,
      "outputs": [
        {
          "output_type": "display_data",
          "data": {
            "image/png": "[encoded data removed]",
            "text/plain": [
              "<Figure size 432x288 with 1 Axes>"
            ]
          },
          "metadata": {
            "tags": []
          }
        }
      ]
    },
    {
      "cell_type": "code",
      "metadata": {
        "id": "KgmhqwlFELrt",
        "colab_type": "code",
        "outputId": "068d99eb-79c1-416a-be90-ba012f0575c7",
        "colab": {
          "base_uri": "https://localhost:8080/",
          "height": 295
        }
      },
      "source": [
        "plt.plot(history.history['loss'])\n",
        "plt.plot(history.history['val_loss'])\n",
        "plt.ylabel('loss')\n",
        "plt.xlabel('epoch')\n",
        "plt.legend(['train', 'test'], loc='upper left')\n",
        "plt.title('loss')\n",
        "plt.show()"
      ],
      "execution_count": 0,
      "outputs": [
        {
          "output_type": "display_data",
          "data": {
            "image/png": "[encoded data removed]",
            "text/plain": [
              "<Figure size 432x288 with 1 Axes>"
            ]
          },
          "metadata": {
            "tags": []
          }
        }
      ]
    },
    {
      "cell_type": "code",
      "metadata": {
        "id": "LvuiJxKdEMke",
        "colab_type": "code",
        "outputId": "aa9c0634-4a34-47f7-d36a-1f6673e526a6",
        "colab": {
          "base_uri": "https://localhost:8080/",
          "height": 292
        }
      },
      "source": [
        "Y_pred = model.predict_generator(test_generator, num_test_files//batch_size+1)\n",
        "y_pred = np.argmax(Y_pred, axis=1)\n",
        "print('Confusion Matrix')\n",
        "print(confusion_matrix(test_generator.classes, y_pred))\n",
        "print('Classification Report')\n",
        "classes_names = ['AD', 'Other']\n",
        "print(classification_report(test_generator.classes, y_pred, target_names=classes_names))"
      ],
      "execution_count": 0,
      "outputs": [
        {
          "output_type": "stream",
          "text": [
            "Confusion Matrix\n",
            "[[45  0]\n",
            " [45  0]]\n",
            "Classification Report\n",
            "              precision    recall  f1-score   support\n",
            "\n",
            "          AD       0.50      1.00      0.67        45\n",
            "       Other       0.00      0.00      0.00        45\n",
            "\n",
            "    accuracy                           0.50        90\n",
            "   macro avg       0.25      0.50      0.33        90\n",
            "weighted avg       0.25      0.50      0.33        90\n",
            "\n"
          ],
          "name": "stdout"
        },
        {
          "output_type": "stream",
          "text": [
            "/usr/local/lib/python3.6/dist-packages/sklearn/metrics/classification.py:1437: UndefinedMetricWarning: Precision and F-score are ill-defined and being set to 0.0 in labels with no predicted samples.\n",
            "  'precision', 'predicted', average, warn_for)\n"
          ],
          "name": "stderr"
        }
      ]
    },
    {
      "cell_type": "code",
      "metadata": {
        "id": "BOeGurjPENsJ",
        "colab_type": "code",
        "outputId": "5d0885a6-65bd-469f-949e-0ac3e09009c8",
        "colab": {
          "base_uri": "https://localhost:8080/",
          "height": 34
        }
      },
      "source": [
        "predictions = model.predict_generator(test_generator, steps=val_steps, verbose=1)"
      ],
      "execution_count": 0,
      "outputs": [
        {
          "output_type": "stream",
          "text": [
            "3/3 [==============================] - 1s 291ms/step\n"
          ],
          "name": "stdout"
        }
      ]
    },
    {
      "cell_type": "code",
      "metadata": {
        "id": "TUD5KLyqEPVc",
        "colab_type": "code",
        "colab": {}
      },
      "source": [
        "def plot_confusion_matrix(cm, classes, normalize=False, title='Confusion matrix', cmap=plt.cm.Blues):\n",
        "    \"\"\"\n",
        "    This function prints and plots the confusion matrix.\n",
        "    Normalization can be applied by setting `normalize=True`.\n",
        "    \"\"\"\n",
        "    if normalize:\n",
        "        cm = cm.astype('float') / cm.sum(axis=1)[:, np.newaxis]\n",
        "        print(\"Normalized confusion matrix\")\n",
        "    else:\n",
        "        print('Confusion matrix, without normalization')\n",
        "\n",
        "    print(cm)\n",
        "\n",
        "    plt.imshow(cm, interpolation='nearest', cmap=cmap)\n",
        "    plt.title(title)\n",
        "    plt.colorbar()\n",
        "    tick_marks = np.arange(len(classes))\n",
        "    plt.xticks(tick_marks, classes, rotation=45)\n",
        "    plt.yticks(tick_marks, classes)\n",
        "\n",
        "    fmt = '.2f' if normalize else 'd'\n",
        "    thresh = cm.max() / 2.\n",
        "    for i, j in itertools.product(range(cm.shape[0]), range(cm.shape[1])):\n",
        "        plt.text(j, i, format(cm[i, j], fmt),\n",
        "                 horizontalalignment=\"center\",\n",
        "                 color=\"white\" if cm[i, j] > thresh else \"black\")\n",
        "\n",
        "    plt.ylabel('True label')\n",
        "    plt.xlabel('Predicted label')\n",
        "    plt.tight_layout()"
      ],
      "execution_count": 0,
      "outputs": []
    },
    {
      "cell_type": "code",
      "metadata": {
        "id": "TgEqudwcEQKL",
        "colab_type": "code",
        "colab": {}
      },
      "source": [
        "cm_plot_labels = ['AD', 'Other']"
      ],
      "execution_count": 0,
      "outputs": []
    },
    {
      "cell_type": "code",
      "metadata": {
        "id": "H_PisCuBERaJ",
        "colab_type": "code",
        "outputId": "3d49f2e0-c3ff-4939-b66c-252f408a8de5",
        "colab": {
          "base_uri": "https://localhost:8080/",
          "height": 348
        }
      },
      "source": [
        "cm = confusion_matrix(test_generator.classes, predictions.argmax(axis=1))\n",
        "plot_confusion_matrix(cm, cm_plot_labels)"
      ],
      "execution_count": 0,
      "outputs": [
        {
          "output_type": "stream",
          "text": [
            "Confusion matrix, without normalization\n",
            "[[45  0]\n",
            " [45  0]]\n"
          ],
          "name": "stdout"
        },
        {
          "output_type": "display_data",
          "data": {
            "image/png": "[encoded data removed]",
            "text/plain": [
              "<Figure size 432x288 with 2 Axes>"
            ]
          },
          "metadata": {
            "tags": []
          }
        }
      ]
    }
  ]
}