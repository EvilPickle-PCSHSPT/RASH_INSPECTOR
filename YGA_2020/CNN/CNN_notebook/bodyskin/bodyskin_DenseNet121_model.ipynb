{
  "nbformat": 4,
  "nbformat_minor": 0,
  "metadata": {
    "colab": {
      "name": "bodyskin_DenseNet121_model.ipynb",
      "provenance": [],
      "collapsed_sections": [],
      "include_colab_link": true
    },
    "kernelspec": {
      "name": "python3",
      "display_name": "Python 3"
    },
    "accelerator": "GPU"
  },
  "cells": [
    {
      "cell_type": "markdown",
      "metadata": {
        "id": "view-in-github",
        "colab_type": "text"
      },
      "source": [
        "<a href=\"https://colab.research.google.com/github/filmer2002/RASH_INSPECTOR/blob/master/bodyskin_DenseNet121_model.ipynb\" target=\"_parent\"><img src=\"https://colab.research.google.com/assets/colab-badge.svg\" alt=\"Open In Colab\"/></a>"
      ]
    },
    {
      "cell_type": "markdown",
      "metadata": {
        "id": "4pLxzbXP3FAt",
        "colab_type": "text"
      },
      "source": [
        "# **DenseNet121**\n",
        "Let's implement !!!"
      ]
    },
    {
      "cell_type": "code",
      "metadata": {
        "id": "ZW1jiibu21dU",
        "colab_type": "code",
        "outputId": "01cc3e79-74b9-40e7-8bb5-4b297925c76e",
        "colab": {
          "base_uri": "https://localhost:8080/",
          "height": 80
        }
      },
      "source": [
        "import tensorflow as tf\n",
        "import keras\n",
        "from keras import backend as K\n",
        "from keras import models\n",
        "from keras.models import Sequential, Model\n",
        "from keras.layers.core import Dense, Dropout, Activation, Flatten\n",
        "from keras.layers.convolutional import Convolution2D, MaxPooling2D\n",
        "from keras.preprocessing.image import ImageDataGenerator, load_img, img_to_array\n",
        "from keras.applications.densenet import DenseNet121\n",
        "from keras.applications.imagenet_utils import preprocess_input\n",
        "from keras.preprocessing import image\n",
        "from keras.optimizers import Adam\n",
        "from keras.callbacks import EarlyStopping, ReduceLROnPlateau, ModelCheckpoint\n",
        "from sklearn.metrics import classification_report, confusion_matrix, precision_recall_fscore_support\n",
        "from vis.utils import utils\n",
        "import itertools\n",
        "import matplotlib.pyplot as plt\n",
        "import matplotlib.image as mpimg\n",
        "import numpy as np\n",
        "import PIL\n",
        "import cv2"
      ],
      "execution_count": 0,
      "outputs": [
        {
          "output_type": "display_data",
          "data": {
            "text/html": [
              "<p style=\"color: red;\">\n",
              "The default version of TensorFlow in Colab will soon switch to TensorFlow 2.x.<br>\n",
              "We recommend you <a href=\"https://www.tensorflow.org/guide/migrate\" target=\"_blank\">upgrade</a> now \n",
              "or ensure your notebook will continue to use TensorFlow 1.x via the <code>%tensorflow_version 1.x</code> magic:\n",
              "<a href=\"https://colab.research.google.com/notebooks/tensorflow_version.ipynb\" target=\"_blank\">more info</a>.</p>\n"
            ],
            "text/plain": [
              "<IPython.core.display.HTML object>"
            ]
          },
          "metadata": {
            "tags": []
          }
        },
        {
          "output_type": "stream",
          "text": [
            "Using TensorFlow backend.\n"
          ],
          "name": "stderr"
        }
      ]
    },
    {
      "cell_type": "code",
      "metadata": {
        "id": "uPdOcchZ3HTf",
        "colab_type": "code",
        "outputId": "3b07c544-67fb-4587-91fc-3de37d1c8050",
        "colab": {
          "base_uri": "https://localhost:8080/",
          "height": 122
        }
      },
      "source": [
        "from google.colab import drive\n",
        "drive.mount('/content/drive')"
      ],
      "execution_count": 0,
      "outputs": [
        {
          "output_type": "stream",
          "text": [
            "Go to this URL in a browser: https://accounts.google.com/o/oauth2/auth?client_id=947318989803-6bn6qk8qdgf4n4g3pfee6491hc0brc4i.apps.googleusercontent.com&redirect_uri=urn%3aietf%3awg%3aoauth%3a2.0%3aoob&response_type=code&scope=email%20https%3a%2f%2fwww.googleapis.com%2fauth%2fdocs.test%20https%3a%2f%2fwww.googleapis.com%2fauth%2fdrive%20https%3a%2f%2fwww.googleapis.com%2fauth%2fdrive.photos.readonly%20https%3a%2f%2fwww.googleapis.com%2fauth%2fpeopleapi.readonly\n",
            "\n",
            "Enter your authorization code:\n",
            "··········\n",
            "Mounted at /content/drive\n"
          ],
          "name": "stdout"
        }
      ]
    },
    {
      "cell_type": "code",
      "metadata": {
        "id": "Hhm5J_cc3rHR",
        "colab_type": "code",
        "outputId": "cddcfb92-3a6b-448d-eab0-91fcb7de0199",
        "colab": {
          "base_uri": "https://localhost:8080/",
          "height": 119
        }
      },
      "source": [
        "!git clone https://github.com/filmer2002/RASH_INSPECTOR_data"
      ],
      "execution_count": 0,
      "outputs": [
        {
          "output_type": "stream",
          "text": [
            "Cloning into 'RASH_INSPECTOR_data'...\n",
            "remote: Enumerating objects: 4594, done.\u001b[K\n",
            "remote: Counting objects:   0% (1/4594)\u001b[K\rremote: Counting objects:   1% (46/4594)\u001b[K\rremote: Counting objects:   2% (92/4594)\u001b[K\rremote: Counting objects:   3% (138/4594)\u001b[K\rremote: Counting objects:   4% (184/4594)\u001b[K\rremote: Counting objects:   5% (230/4594)\u001b[K\rremote: Counting objects:   6% (276/4594)\u001b[K\rremote: Counting objects:   7% (322/4594)\u001b[K\rremote: Counting objects:   8% (368/4594)\u001b[K\rremote: Counting objects:   9% (414/4594)\u001b[K\rremote: Counting objects:  10% (460/4594)\u001b[K\rremote: Counting objects:  11% (506/4594)\u001b[K\rremote: Counting objects:  12% (552/4594)\u001b[K\rremote: Counting objects:  13% (598/4594)\u001b[K\rremote: Counting objects:  14% (644/4594)\u001b[K\rremote: Counting objects:  15% (690/4594)\u001b[K\rremote: Counting objects:  16% (736/4594)\u001b[K\rremote: Counting objects:  17% (781/4594)\u001b[K\rremote: Counting objects:  18% (827/4594)\u001b[K\rremote: Counting objects:  19% (873/4594)\u001b[K\rremote: Counting objects:  20% (919/4594)\u001b[K\rremote: Counting objects:  21% (965/4594)\u001b[K\rremote: Counting objects:  22% (1011/4594)\u001b[K\rremote: Counting objects:  23% (1057/4594)\u001b[K\rremote: Counting objects:  24% (1103/4594)\u001b[K\rremote: Counting objects:  25% (1149/4594)\u001b[K\rremote: Counting objects:  26% (1195/4594)\u001b[K\rremote: Counting objects:  27% (1241/4594)\u001b[K\rremote: Counting objects:  28% (1287/4594)\u001b[K\rremote: Counting objects:  29% (1333/4594)\u001b[K\rremote: Counting objects:  30% (1379/4594)\u001b[K\rremote: Counting objects:  31% (1425/4594)\u001b[K\rremote: Counting objects:  32% (1471/4594)\u001b[K\rremote: Counting objects:  33% (1517/4594)\u001b[K\rremote: Counting objects:  34% (1562/4594)\u001b[K\rremote: Counting objects:  35% (1608/4594)\u001b[K\rremote: Counting objects:  36% (1654/4594)\u001b[K\rremote: Counting objects:  37% (1700/4594)\u001b[K\rremote: Counting objects:  38% (1746/4594)\u001b[K\rremote: Counting objects:  39% (1792/4594)\u001b[K\rremote: Counting objects:  40% (1838/4594)\u001b[K\rremote: Counting objects:  41% (1884/4594)\u001b[K\rremote: Counting objects:  42% (1930/4594)\u001b[K\rremote: Counting objects:  43% (1976/4594)\u001b[K\rremote: Counting objects:  44% (2022/4594)\u001b[K\rremote: Counting objects:  45% (2068/4594)\u001b[K\rremote: Counting objects:  46% (2114/4594)\u001b[K\rremote: Counting objects:  47% (2160/4594)\u001b[K\rremote: Counting objects:  48% (2206/4594)\u001b[K\rremote: Counting objects:  49% (2252/4594)\u001b[K\rremote: Counting objects:  50% (2297/4594)\u001b[K\rremote: Counting objects:  51% (2343/4594)\u001b[K\rremote: Counting objects:  52% (2389/4594)\u001b[K\rremote: Counting objects:  53% (2435/4594)\u001b[K\rremote: Counting objects:  54% (2481/4594)\u001b[K\rremote: Counting objects:  55% (2527/4594)\u001b[K\rremote: Counting objects:  56% (2573/4594)\u001b[K\rremote: Counting objects:  57% (2619/4594)\u001b[K\rremote: Counting objects:  58% (2665/4594)\u001b[K\rremote: Counting objects:  59% (2711/4594)\u001b[K\rremote: Counting objects:  60% (2757/4594)\u001b[K\rremote: Counting objects:  61% (2803/4594)\u001b[K\rremote: Counting objects:  62% (2849/4594)\u001b[K\rremote: Counting objects:  63% (2895/4594)\u001b[K\rremote: Counting objects:  64% (2941/4594)\u001b[K\rremote: Counting objects:  65% (2987/4594)\u001b[K\rremote: Counting objects:  66% (3033/4594)\u001b[K\rremote: Counting objects:  67% (3078/4594)\u001b[K\rremote: Counting objects:  68% (3124/4594)\u001b[K\rremote: Counting objects:  69% (3170/4594)\u001b[K\rremote: Counting objects:  70% (3216/4594)\u001b[K\rremote: Counting objects:  71% (3262/4594)\u001b[K\rremote: Counting objects:  72% (3308/4594)\u001b[K\rremote: Counting objects:  73% (3354/4594)\u001b[K\rremote: Counting objects:  74% (3400/4594)\u001b[K\rremote: Counting objects:  75% (3446/4594)\u001b[K\rremote: Counting objects:  76% (3492/4594)\u001b[K\rremote: Counting objects:  77% (3538/4594)\u001b[K\rremote: Counting objects:  78% (3584/4594)\u001b[K\rremote: Counting objects:  79% (3630/4594)\u001b[K\rremote: Counting objects:  80% (3676/4594)\u001b[K\rremote: Counting objects:  81% (3722/4594)\u001b[K\rremote: Counting objects:  82% (3768/4594)\u001b[K\rremote: Counting objects:  83% (3814/4594)\u001b[K\rremote: Counting objects:  84% (3859/4594)\u001b[K\rremote: Counting objects:  85% (3905/4594)\u001b[K\rremote: Counting objects:  86% (3951/4594)\u001b[K\rremote: Counting objects:  87% (3997/4594)\u001b[K\rremote: Counting objects:  88% (4043/4594)\u001b[K\rremote: Counting objects:  89% (4089/4594)\u001b[K\rremote: Counting objects:  90% (4135/4594)\u001b[K\rremote: Counting objects:  91% (4181/4594)\u001b[K\rremote: Counting objects:  92% (4227/4594)\u001b[K\rremote: Counting objects:  93% (4273/4594)\u001b[K\rremote: Counting objects:  94% (4319/4594)\u001b[K\rremote: Counting objects:  95% (4365/4594)\u001b[K\rremote: Counting objects:  96% (4411/4594)\u001b[K\rremote: Counting objects:  97% (4457/4594)\u001b[K\rremote: Counting objects:  98% (4503/4594)\u001b[K\rremote: Counting objects:  99% (4549/4594)\u001b[K\rremote: Counting objects: 100% (4594/4594)\u001b[K\rremote: Counting objects: 100% (4594/4594), done.\u001b[K\n",
            "remote: Compressing objects:   0% (1/4594)\u001b[K\rremote: Compressing objects:   1% (46/4594)\u001b[K\rremote: Compressing objects:   2% (92/4594)\u001b[K\rremote: Compressing objects:   3% (138/4594)\u001b[K\rremote: Compressing objects:   4% (184/4594)\u001b[K\rremote: Compressing objects:   5% (230/4594)\u001b[K\rremote: Compressing objects:   6% (276/4594)\u001b[K\rremote: Compressing objects:   7% (322/4594)\u001b[K\rremote: Compressing objects:   8% (368/4594)\u001b[K\rremote: Compressing objects:   9% (414/4594)\u001b[K\rremote: Compressing objects:  10% (460/4594)\u001b[K\rremote: Compressing objects:  11% (506/4594)\u001b[K\rremote: Compressing objects:  12% (552/4594)\u001b[K\rremote: Compressing objects:  13% (598/4594)\u001b[K\rremote: Compressing objects:  14% (644/4594)\u001b[K\rremote: Compressing objects:  15% (690/4594)\u001b[K\rremote: Compressing objects:  16% (736/4594)\u001b[K\rremote: Compressing objects:  17% (781/4594)\u001b[K\rremote: Compressing objects:  18% (827/4594)\u001b[K\rremote: Compressing objects:  19% (873/4594)\u001b[K\rremote: Compressing objects:  20% (919/4594)\u001b[K\rremote: Compressing objects:  21% (965/4594)\u001b[K\rremote: Compressing objects:  22% (1011/4594)\u001b[K\rremote: Compressing objects:  23% (1057/4594)\u001b[K\rremote: Compressing objects:  24% (1103/4594)\u001b[K\rremote: Compressing objects:  25% (1149/4594)\u001b[K\rremote: Compressing objects:  26% (1195/4594)\u001b[K\rremote: Compressing objects:  27% (1241/4594)\u001b[K\rremote: Compressing objects:  28% (1287/4594)\u001b[K\rremote: Compressing objects:  29% (1333/4594)\u001b[K\rremote: Compressing objects:  30% (1379/4594)\u001b[K\rremote: Compressing objects:  31% (1425/4594)\u001b[K\rremote: Compressing objects:  32% (1471/4594)\u001b[K\rremote: Compressing objects:  33% (1517/4594)\u001b[K\rremote: Compressing objects:  34% (1562/4594)\u001b[K\rremote: Compressing objects:  35% (1608/4594)\u001b[K\rremote: Compressing objects:  36% (1654/4594)\u001b[K\rremote: Compressing objects:  37% (1700/4594)\u001b[K\rremote: Compressing objects:  38% (1746/4594)\u001b[K\rremote: Compressing objects:  39% (1792/4594)\u001b[K\rremote: Compressing objects:  40% (1838/4594)\u001b[K\rremote: Compressing objects:  41% (1884/4594)\u001b[K\rremote: Compressing objects:  42% (1930/4594)\u001b[K\rremote: Compressing objects:  43% (1976/4594)\u001b[K\rremote: Compressing objects:  44% (2022/4594)\u001b[K\rremote: Compressing objects:  45% (2068/4594)\u001b[K\rremote: Compressing objects:  46% (2114/4594)\u001b[K\rremote: Compressing objects:  47% (2160/4594)\u001b[K\rremote: Compressing objects:  48% (2206/4594)\u001b[K\rremote: Compressing objects:  49% (2252/4594)\u001b[K\rremote: Compressing objects:  50% (2297/4594)\u001b[K\rremote: Compressing objects:  51% (2343/4594)\u001b[K\rremote: Compressing objects:  52% (2389/4594)\u001b[K\rremote: Compressing objects:  53% (2435/4594)\u001b[K\rremote: Compressing objects:  54% (2481/4594)\u001b[K\rremote: Compressing objects:  55% (2527/4594)\u001b[K\rremote: Compressing objects:  56% (2573/4594)\u001b[K\rremote: Compressing objects:  57% (2619/4594)\u001b[K\rremote: Compressing objects:  58% (2665/4594)\u001b[K\rremote: Compressing objects:  59% (2711/4594)\u001b[K\rremote: Compressing objects:  60% (2757/4594)\u001b[K\rremote: Compressing objects:  61% (2803/4594)\u001b[K\rremote: Compressing objects:  62% (2849/4594)\u001b[K\rremote: Compressing objects:  63% (2895/4594)\u001b[K\rremote: Compressing objects:  64% (2941/4594)\u001b[K\rremote: Compressing objects:  65% (2987/4594)\u001b[K\rremote: Compressing objects:  66% (3033/4594)\u001b[K\rremote: Compressing objects:  67% (3078/4594)\u001b[K\rremote: Compressing objects:  68% (3124/4594)\u001b[K\rremote: Compressing objects:  69% (3170/4594)\u001b[K\rremote: Compressing objects:  70% (3216/4594)\u001b[K\rremote: Compressing objects:  71% (3262/4594)\u001b[K\rremote: Compressing objects:  72% (3308/4594)\u001b[K\rremote: Compressing objects:  73% (3354/4594)\u001b[K\rremote: Compressing objects:  74% (3400/4594)\u001b[K\rremote: Compressing objects:  75% (3446/4594)\u001b[K\rremote: Compressing objects:  76% (3492/4594)\u001b[K\rremote: Compressing objects:  77% (3538/4594)\u001b[K\rremote: Compressing objects:  78% (3584/4594)\u001b[K\rremote: Compressing objects:  79% (3630/4594)\u001b[K\rremote: Compressing objects:  80% (3676/4594)\u001b[K\rremote: Compressing objects:  81% (3722/4594)\u001b[K\rremote: Compressing objects:  82% (3768/4594)\u001b[K\rremote: Compressing objects:  83% (3814/4594)\u001b[K\rremote: Compressing objects:  84% (3859/4594)\u001b[K\rremote: Compressing objects:  85% (3905/4594)\u001b[K\rremote: Compressing objects:  86% (3951/4594)\u001b[K\rremote: Compressing objects:  87% (3997/4594)\u001b[K\rremote: Compressing objects:  88% (4043/4594)\u001b[K\rremote: Compressing objects:  89% (4089/4594)\u001b[K\rremote: Compressing objects:  90% (4135/4594)\u001b[K\rremote: Compressing objects:  91% (4181/4594)\u001b[K\rremote: Compressing objects:  92% (4227/4594)\u001b[K\rremote: Compressing objects:  93% (4273/4594)\u001b[K\rremote: Compressing objects:  94% (4319/4594)\u001b[K\rremote: Compressing objects:  95% (4365/4594)\u001b[K\rremote: Compressing objects:  96% (4411/4594)\u001b[K\rremote: Compressing objects:  97% (4457/4594)\u001b[K\rremote: Compressing objects:  98% (4503/4594)\u001b[K\rremote: Compressing objects:  99% (4549/4594)\u001b[K\rremote: Compressing objects: 100% (4594/4594)\u001b[K\rremote: Compressing objects: 100% (4594/4594), done.\u001b[K\n",
            "Receiving objects:   0% (1/4594)   \rReceiving objects:   1% (46/4594)   \rReceiving objects:   2% (92/4594)   \rReceiving objects:   3% (138/4594)   \rReceiving objects:   4% (184/4594)   \rReceiving objects:   5% (230/4594)   \rReceiving objects:   6% (276/4594)   \rReceiving objects:   7% (322/4594), 3.25 MiB | 6.41 MiB/s   \rReceiving objects:   8% (368/4594), 3.25 MiB | 6.41 MiB/s   \rReceiving objects:   9% (414/4594), 3.25 MiB | 6.41 MiB/s   \rReceiving objects:  10% (460/4594), 3.25 MiB | 6.41 MiB/s   \rReceiving objects:  11% (506/4594), 3.25 MiB | 6.41 MiB/s   \rReceiving objects:  12% (552/4594), 3.25 MiB | 6.41 MiB/s   \rReceiving objects:  13% (598/4594), 3.25 MiB | 6.41 MiB/s   \rReceiving objects:  14% (644/4594), 3.25 MiB | 6.41 MiB/s   \rReceiving objects:  15% (690/4594), 3.25 MiB | 6.41 MiB/s   \rReceiving objects:  16% (736/4594), 3.25 MiB | 6.41 MiB/s   \rReceiving objects:  17% (781/4594), 3.25 MiB | 6.41 MiB/s   \rReceiving objects:  18% (827/4594), 3.25 MiB | 6.41 MiB/s   \rReceiving objects:  19% (873/4594), 3.25 MiB | 6.41 MiB/s   \rReceiving objects:  20% (919/4594), 3.25 MiB | 6.41 MiB/s   \rReceiving objects:  21% (965/4594), 3.25 MiB | 6.41 MiB/s   \rReceiving objects:  22% (1011/4594), 3.25 MiB | 6.41 MiB/s   \rReceiving objects:  23% (1057/4594), 3.25 MiB | 6.41 MiB/s   \rReceiving objects:  24% (1103/4594), 3.25 MiB | 6.41 MiB/s   \rReceiving objects:  25% (1149/4594), 3.25 MiB | 6.41 MiB/s   \rReceiving objects:  26% (1195/4594), 3.25 MiB | 6.41 MiB/s   \rReceiving objects:  27% (1241/4594), 3.25 MiB | 6.41 MiB/s   \rReceiving objects:  28% (1287/4594), 3.25 MiB | 6.41 MiB/s   \rReceiving objects:  29% (1333/4594), 3.25 MiB | 6.41 MiB/s   \rReceiving objects:  30% (1379/4594), 3.25 MiB | 6.41 MiB/s   \rReceiving objects:  31% (1425/4594), 3.25 MiB | 6.41 MiB/s   \rReceiving objects:  32% (1471/4594), 3.25 MiB | 6.41 MiB/s   \rReceiving objects:  33% (1517/4594), 3.25 MiB | 6.41 MiB/s   \rReceiving objects:  34% (1562/4594), 3.25 MiB | 6.41 MiB/s   \rReceiving objects:  35% (1608/4594), 3.25 MiB | 6.41 MiB/s   \rReceiving objects:  35% (1627/4594), 3.25 MiB | 6.41 MiB/s   \rReceiving objects:  36% (1654/4594), 15.75 MiB | 15.56 MiB/s   \rReceiving objects:  37% (1700/4594), 15.75 MiB | 15.56 MiB/s   \rReceiving objects:  38% (1746/4594), 15.75 MiB | 15.56 MiB/s   \rReceiving objects:  39% (1792/4594), 15.75 MiB | 15.56 MiB/s   \rReceiving objects:  40% (1838/4594), 15.75 MiB | 15.56 MiB/s   \rReceiving objects:  41% (1884/4594), 15.75 MiB | 15.56 MiB/s   \rReceiving objects:  42% (1930/4594), 15.75 MiB | 15.56 MiB/s   \rReceiving objects:  43% (1976/4594), 15.75 MiB | 15.56 MiB/s   \rReceiving objects:  44% (2022/4594), 15.75 MiB | 15.56 MiB/s   \rReceiving objects:  45% (2068/4594), 15.75 MiB | 15.56 MiB/s   \rReceiving objects:  46% (2114/4594), 15.75 MiB | 15.56 MiB/s   \rReceiving objects:  47% (2160/4594), 15.75 MiB | 15.56 MiB/s   \rReceiving objects:  48% (2206/4594), 15.75 MiB | 15.56 MiB/s   \rReceiving objects:  49% (2252/4594), 15.75 MiB | 15.56 MiB/s   \rReceiving objects:  50% (2297/4594), 15.75 MiB | 15.56 MiB/s   \rReceiving objects:  51% (2343/4594), 15.75 MiB | 15.56 MiB/s   \rReceiving objects:  52% (2389/4594), 15.75 MiB | 15.56 MiB/s   \rReceiving objects:  53% (2435/4594), 15.75 MiB | 15.56 MiB/s   \rReceiving objects:  54% (2481/4594), 15.75 MiB | 15.56 MiB/s   \rReceiving objects:  55% (2527/4594), 15.75 MiB | 15.56 MiB/s   \rReceiving objects:  56% (2573/4594), 15.75 MiB | 15.56 MiB/s   \rReceiving objects:  57% (2619/4594), 15.75 MiB | 15.56 MiB/s   \rReceiving objects:  58% (2665/4594), 15.75 MiB | 15.56 MiB/s   \rReceiving objects:  59% (2711/4594), 15.75 MiB | 15.56 MiB/s   \rReceiving objects:  60% (2757/4594), 15.75 MiB | 15.56 MiB/s   \rReceiving objects:  61% (2803/4594), 15.75 MiB | 15.56 MiB/s   \rReceiving objects:  62% (2849/4594), 15.75 MiB | 15.56 MiB/s   \rReceiving objects:  63% (2895/4594), 15.75 MiB | 15.56 MiB/s   \rReceiving objects:  64% (2941/4594), 15.75 MiB | 15.56 MiB/s   \rReceiving objects:  65% (2987/4594), 15.75 MiB | 15.56 MiB/s   \rReceiving objects:  66% (3033/4594), 15.75 MiB | 15.56 MiB/s   \rReceiving objects:  67% (3078/4594), 15.75 MiB | 15.56 MiB/s   \rReceiving objects:  68% (3124/4594), 15.75 MiB | 15.56 MiB/s   \rReceiving objects:  69% (3170/4594), 15.75 MiB | 15.56 MiB/s   \rReceiving objects:  70% (3216/4594), 15.75 MiB | 15.56 MiB/s   \rReceiving objects:  71% (3262/4594), 15.75 MiB | 15.56 MiB/s   \rReceiving objects:  72% (3308/4594), 31.59 MiB | 20.89 MiB/s   \rReceiving objects:  73% (3354/4594), 31.59 MiB | 20.89 MiB/s   \rReceiving objects:  74% (3400/4594), 31.59 MiB | 20.89 MiB/s   \rReceiving objects:  75% (3446/4594), 31.59 MiB | 20.89 MiB/s   \rReceiving objects:  76% (3492/4594), 31.59 MiB | 20.89 MiB/s   \rReceiving objects:  77% (3538/4594), 31.59 MiB | 20.89 MiB/s   \rReceiving objects:  78% (3584/4594), 31.59 MiB | 20.89 MiB/s   \rReceiving objects:  79% (3630/4594), 31.59 MiB | 20.89 MiB/s   \rReceiving objects:  80% (3676/4594), 31.59 MiB | 20.89 MiB/s   \rReceiving objects:  81% (3722/4594), 31.59 MiB | 20.89 MiB/s   \rReceiving objects:  82% (3768/4594), 31.59 MiB | 20.89 MiB/s   \rReceiving objects:  83% (3814/4594), 31.59 MiB | 20.89 MiB/s   \rReceiving objects:  84% (3859/4594), 31.59 MiB | 20.89 MiB/s   \rReceiving objects:  85% (3905/4594), 31.59 MiB | 20.89 MiB/s   \rReceiving objects:  86% (3951/4594), 31.59 MiB | 20.89 MiB/s   \rReceiving objects:  87% (3997/4594), 31.59 MiB | 20.89 MiB/s   \rReceiving objects:  88% (4043/4594), 31.59 MiB | 20.89 MiB/s   \rReceiving objects:  89% (4089/4594), 31.59 MiB | 20.89 MiB/s   \rReceiving objects:  90% (4135/4594), 31.59 MiB | 20.89 MiB/s   \rReceiving objects:  91% (4181/4594), 31.59 MiB | 20.89 MiB/s   \rReceiving objects:  92% (4227/4594), 31.59 MiB | 20.89 MiB/s   \rReceiving objects:  93% (4273/4594), 31.59 MiB | 20.89 MiB/s   \rReceiving objects:  94% (4319/4594), 31.59 MiB | 20.89 MiB/s   \rReceiving objects:  95% (4365/4594), 31.59 MiB | 20.89 MiB/s   \rReceiving objects:  96% (4411/4594), 31.59 MiB | 20.89 MiB/s   \rReceiving objects:  97% (4457/4594), 31.59 MiB | 20.89 MiB/s   \rReceiving objects:  98% (4503/4594), 31.59 MiB | 20.89 MiB/s   \rReceiving objects:  99% (4549/4594), 31.59 MiB | 20.89 MiB/s   \rremote: Total 4594 (delta 0), reused 4594 (delta 0), pack-reused 0\u001b[K\n",
            "Receiving objects: 100% (4594/4594), 31.59 MiB | 20.89 MiB/s   \rReceiving objects: 100% (4594/4594), 43.82 MiB | 23.71 MiB/s, done.\n"
          ],
          "name": "stdout"
        }
      ]
    },
    {
      "cell_type": "code",
      "metadata": {
        "id": "5d-WoLV83y3u",
        "colab_type": "code",
        "colab": {}
      },
      "source": [
        "train_path = '/content/RASH_INSPECTOR_data/bodyskin/train'\n",
        "val_path = '/content/RASH_INSPECTOR_data/bodyskin/val'\n",
        "test_path = '/content/RASH_INSPECTOR_data/bodyskin/test'"
      ],
      "execution_count": 0,
      "outputs": []
    },
    {
      "cell_type": "code",
      "metadata": {
        "id": "AY0_ju8R30Mw",
        "colab_type": "code",
        "colab": {}
      },
      "source": [
        "img_size = 224\n",
        "epochs = 30\n",
        "batch_size = 32"
      ],
      "execution_count": 0,
      "outputs": []
    },
    {
      "cell_type": "code",
      "metadata": {
        "id": "v6YQyytV31dw",
        "colab_type": "code",
        "colab": {}
      },
      "source": [
        "train_norm = ImageDataGenerator(rescale=1. / 255) \n",
        "val_norm = ImageDataGenerator(rescale=1. / 255) \n",
        "test_norm = ImageDataGenerator(rescale=1. / 255) "
      ],
      "execution_count": 0,
      "outputs": []
    },
    {
      "cell_type": "code",
      "metadata": {
        "id": "m5tRqIco32gk",
        "colab_type": "code",
        "outputId": "587a9c1f-2b37-41d7-eecd-d900f02bbcb3",
        "colab": {
          "base_uri": "https://localhost:8080/",
          "height": 68
        }
      },
      "source": [
        "train_generator = train_norm.flow_from_directory( \n",
        "    train_path, \n",
        "    target_size=(img_size, img_size), \n",
        "    batch_size=batch_size)\n",
        "\n",
        "val_generator = val_norm.flow_from_directory( \n",
        "    val_path, \n",
        "    target_size=(img_size, img_size), \n",
        "    batch_size=batch_size)\n",
        "\n",
        "test_generator = test_norm.flow_from_directory( \n",
        "    test_path, \n",
        "    target_size=(img_size, img_size), \n",
        "    batch_size=batch_size,\n",
        "    shuffle=False)"
      ],
      "execution_count": 0,
      "outputs": [
        {
          "output_type": "stream",
          "text": [
            "Found 1520 images belonging to 2 classes.\n",
            "Found 190 images belonging to 2 classes.\n",
            "Found 190 images belonging to 2 classes.\n"
          ],
          "name": "stdout"
        }
      ]
    },
    {
      "cell_type": "code",
      "metadata": {
        "id": "3GEF8wT_331b",
        "colab_type": "code",
        "outputId": "eec517d7-aa3e-412c-eefc-3ed264033a38",
        "colab": {
          "base_uri": "https://localhost:8080/",
          "height": 68
        }
      },
      "source": [
        "num_train_files = len(train_generator.filenames)\n",
        "num_train_classes = len(train_generator.class_indices)\n",
        "print('num_train_files', num_train_files, '&', 'num_train_classes', num_train_classes )\n",
        "\n",
        "num_val_files = len(val_generator.filenames)\n",
        "num_val_classes = len(val_generator.class_indices)\n",
        "print('num_val_files', num_val_files, '&', 'num_val_classes', num_val_classes )\n",
        "\n",
        "num_test_files = len(test_generator.filenames)\n",
        "num_test_classes = len(test_generator.class_indices)\n",
        "print('num_test_files', num_test_files, '&', 'num_test_classes', num_test_classes )"
      ],
      "execution_count": 0,
      "outputs": [
        {
          "output_type": "stream",
          "text": [
            "num_train_files 1520 & num_train_classes 2\n",
            "num_val_files 190 & num_val_classes 2\n",
            "num_test_files 190 & num_test_classes 2\n"
          ],
          "name": "stdout"
        }
      ]
    },
    {
      "cell_type": "code",
      "metadata": {
        "id": "uJUaE3yB35Hu",
        "colab_type": "code",
        "colab": {}
      },
      "source": [
        "train_steps = np.ceil(num_train_files/batch_size)\n",
        "val_steps = np.ceil(num_val_files/batch_size)"
      ],
      "execution_count": 0,
      "outputs": []
    },
    {
      "cell_type": "code",
      "metadata": {
        "id": "XDWVXy7036hO",
        "colab_type": "code",
        "outputId": "7492faf2-a7a0-4ef0-8986-dba0fe863934",
        "colab": {
          "base_uri": "https://localhost:8080/",
          "height": 513
        }
      },
      "source": [
        "model = DenseNet121(weights='imagenet')"
      ],
      "execution_count": 0,
      "outputs": [
        {
          "output_type": "stream",
          "text": [
            "WARNING:tensorflow:From /usr/local/lib/python3.6/dist-packages/keras/backend/tensorflow_backend.py:66: The name tf.get_default_graph is deprecated. Please use tf.compat.v1.get_default_graph instead.\n",
            "\n",
            "WARNING:tensorflow:From /usr/local/lib/python3.6/dist-packages/keras/backend/tensorflow_backend.py:541: The name tf.placeholder is deprecated. Please use tf.compat.v1.placeholder instead.\n",
            "\n",
            "WARNING:tensorflow:From /usr/local/lib/python3.6/dist-packages/keras/backend/tensorflow_backend.py:4432: The name tf.random_uniform is deprecated. Please use tf.random.uniform instead.\n",
            "\n",
            "WARNING:tensorflow:From /usr/local/lib/python3.6/dist-packages/keras/backend/tensorflow_backend.py:190: The name tf.get_default_session is deprecated. Please use tf.compat.v1.get_default_session instead.\n",
            "\n",
            "WARNING:tensorflow:From /usr/local/lib/python3.6/dist-packages/keras/backend/tensorflow_backend.py:197: The name tf.ConfigProto is deprecated. Please use tf.compat.v1.ConfigProto instead.\n",
            "\n",
            "WARNING:tensorflow:From /usr/local/lib/python3.6/dist-packages/keras/backend/tensorflow_backend.py:203: The name tf.Session is deprecated. Please use tf.compat.v1.Session instead.\n",
            "\n",
            "WARNING:tensorflow:From /usr/local/lib/python3.6/dist-packages/keras/backend/tensorflow_backend.py:207: The name tf.global_variables is deprecated. Please use tf.compat.v1.global_variables instead.\n",
            "\n",
            "WARNING:tensorflow:From /usr/local/lib/python3.6/dist-packages/keras/backend/tensorflow_backend.py:216: The name tf.is_variable_initialized is deprecated. Please use tf.compat.v1.is_variable_initialized instead.\n",
            "\n",
            "WARNING:tensorflow:From /usr/local/lib/python3.6/dist-packages/keras/backend/tensorflow_backend.py:223: The name tf.variables_initializer is deprecated. Please use tf.compat.v1.variables_initializer instead.\n",
            "\n",
            "WARNING:tensorflow:From /usr/local/lib/python3.6/dist-packages/keras/backend/tensorflow_backend.py:2041: The name tf.nn.fused_batch_norm is deprecated. Please use tf.compat.v1.nn.fused_batch_norm instead.\n",
            "\n",
            "WARNING:tensorflow:From /usr/local/lib/python3.6/dist-packages/keras/backend/tensorflow_backend.py:148: The name tf.placeholder_with_default is deprecated. Please use tf.compat.v1.placeholder_with_default instead.\n",
            "\n",
            "WARNING:tensorflow:From /usr/local/lib/python3.6/dist-packages/keras/backend/tensorflow_backend.py:4267: The name tf.nn.max_pool is deprecated. Please use tf.nn.max_pool2d instead.\n",
            "\n",
            "WARNING:tensorflow:From /usr/local/lib/python3.6/dist-packages/keras/backend/tensorflow_backend.py:4271: The name tf.nn.avg_pool is deprecated. Please use tf.nn.avg_pool2d instead.\n",
            "\n",
            "Downloading data from https://github.com/keras-team/keras-applications/releases/download/densenet/densenet121_weights_tf_dim_ordering_tf_kernels.h5\n",
            "33193984/33188688 [==============================] - 2s 0us/step\n"
          ],
          "name": "stdout"
        }
      ]
    },
    {
      "cell_type": "code",
      "metadata": {
        "id": "7Uz8egur38xT",
        "colab_type": "code",
        "colab": {}
      },
      "source": [
        "x = model.layers[-2].output\n",
        "predictions = Dense(num_train_classes, activation='softmax')(x)\n",
        "model = Model(inputs=model.input, outputs=predictions)"
      ],
      "execution_count": 0,
      "outputs": []
    },
    {
      "cell_type": "code",
      "metadata": {
        "id": "i69C3sJa3_D_",
        "colab_type": "code",
        "outputId": "68907f9a-a916-4146-ed30-b54ce2d1406a",
        "colab": {
          "base_uri": "https://localhost:8080/",
          "height": 105
        }
      },
      "source": [
        "model.compile(Adam(lr=0.01), \n",
        "              loss='categorical_crossentropy', \n",
        "              metrics=['accuracy'])"
      ],
      "execution_count": 0,
      "outputs": [
        {
          "output_type": "stream",
          "text": [
            "WARNING:tensorflow:From /usr/local/lib/python3.6/dist-packages/keras/optimizers.py:793: The name tf.train.Optimizer is deprecated. Please use tf.compat.v1.train.Optimizer instead.\n",
            "\n",
            "WARNING:tensorflow:From /usr/local/lib/python3.6/dist-packages/keras/backend/tensorflow_backend.py:3576: The name tf.log is deprecated. Please use tf.math.log instead.\n",
            "\n"
          ],
          "name": "stdout"
        }
      ]
    },
    {
      "cell_type": "code",
      "metadata": {
        "id": "fJ2W3frj4AVH",
        "colab_type": "code",
        "colab": {}
      },
      "source": [
        "model_path = '/content/drive/My Drive/โครงงานผื่น/RASH_INSPECTOR/ORGAN/bodyskin/DenseNet121/bodyskin_densenet121_model.h5'"
      ],
      "execution_count": 0,
      "outputs": []
    },
    {
      "cell_type": "code",
      "metadata": {
        "id": "RjsSdcww4FDW",
        "colab_type": "code",
        "colab": {}
      },
      "source": [
        "checkpoint = ModelCheckpoint(model_path, monitor='val_acc', verbose=1,\n",
        "                             save_best_only=True, mode='max')"
      ],
      "execution_count": 0,
      "outputs": []
    },
    {
      "cell_type": "code",
      "metadata": {
        "id": "kS29ACBr4GZG",
        "colab_type": "code",
        "colab": {}
      },
      "source": [
        "early_stop = EarlyStopping(monitor='val_loss', mode='min', verbose=1, patience=10)"
      ],
      "execution_count": 0,
      "outputs": []
    },
    {
      "cell_type": "code",
      "metadata": {
        "id": "aPirxFGR4H5V",
        "colab_type": "code",
        "colab": {}
      },
      "source": [
        "reduce_lr = ReduceLROnPlateau(monitor='val_loss', factor=0.2, patience=2,\n",
        "                              verbose=1, mode='max', min_lr=0.00001)"
      ],
      "execution_count": 0,
      "outputs": []
    },
    {
      "cell_type": "code",
      "metadata": {
        "id": "5tswye6q4I_6",
        "colab_type": "code",
        "colab": {}
      },
      "source": [
        "log_dir = '/content/drive/My Drive/โครงงานผื่น/RASH_INSPECTOR/ORGAN/bodyskin/DenseNet121/tf-log/'\n",
        "tb_cb = keras.callbacks.TensorBoard(log_dir=log_dir, histogram_freq=0, batch_size=32, write_graph=True, write_grads=False, write_images=False, embeddings_freq=0, embeddings_layer_names=None, embeddings_metadata=None, embeddings_data=None, update_freq='epoch')"
      ],
      "execution_count": 0,
      "outputs": []
    },
    {
      "cell_type": "code",
      "metadata": {
        "id": "zX4buzBf4MU5",
        "colab_type": "code",
        "colab": {}
      },
      "source": [
        "cb_list = [checkpoint, early_stop, reduce_lr, tb_cb]"
      ],
      "execution_count": 0,
      "outputs": []
    },
    {
      "cell_type": "code",
      "metadata": {
        "id": "g2TNDBa54NwM",
        "colab_type": "code",
        "outputId": "5329d91b-3537-4dc2-c436-bc4df5384619",
        "colab": {
          "base_uri": "https://localhost:8080/",
          "height": 1000
        }
      },
      "source": [
        "history = model.fit_generator(train_generator,\n",
        "                              steps_per_epoch=train_steps,\n",
        "                              validation_data=val_generator,\n",
        "                              validation_steps=val_steps,\n",
        "                              epochs=epochs,\n",
        "                              verbose=1,\n",
        "                              callbacks=cb_list)"
      ],
      "execution_count": 0,
      "outputs": [
        {
          "output_type": "stream",
          "text": [
            "WARNING:tensorflow:From /usr/local/lib/python3.6/dist-packages/tensorflow_core/python/ops/math_grad.py:1424: where (from tensorflow.python.ops.array_ops) is deprecated and will be removed in a future version.\n",
            "Instructions for updating:\n",
            "Use tf.where in 2.0, which has the same broadcast rule as np.where\n",
            "WARNING:tensorflow:From /usr/local/lib/python3.6/dist-packages/keras/backend/tensorflow_backend.py:1033: The name tf.assign_add is deprecated. Please use tf.compat.v1.assign_add instead.\n",
            "\n",
            "WARNING:tensorflow:From /usr/local/lib/python3.6/dist-packages/keras/backend/tensorflow_backend.py:1020: The name tf.assign is deprecated. Please use tf.compat.v1.assign instead.\n",
            "\n",
            "WARNING:tensorflow:From /usr/local/lib/python3.6/dist-packages/keras/callbacks.py:1122: The name tf.summary.merge_all is deprecated. Please use tf.compat.v1.summary.merge_all instead.\n",
            "\n",
            "WARNING:tensorflow:From /usr/local/lib/python3.6/dist-packages/keras/callbacks.py:1125: The name tf.summary.FileWriter is deprecated. Please use tf.compat.v1.summary.FileWriter instead.\n",
            "\n",
            "Epoch 1/30\n",
            "48/48 [==============================] - 76s 2s/step - loss: 0.8677 - acc: 0.6373 - val_loss: 8.0675 - val_acc: 0.4947\n",
            "\n",
            "Epoch 00001: val_acc improved from -inf to 0.49474, saving model to /content/drive/My Drive/โครงงานผื่น/RASH_INSPECTOR/ORGAN/bodyskin/DenseNet121/bodyskin_densenet121_model.h5\n",
            "WARNING:tensorflow:From /usr/local/lib/python3.6/dist-packages/keras/callbacks.py:1265: The name tf.Summary is deprecated. Please use tf.compat.v1.Summary instead.\n",
            "\n",
            "Epoch 2/30\n",
            "48/48 [==============================] - 41s 853ms/step - loss: 0.7189 - acc: 0.6549 - val_loss: 7.3736 - val_acc: 0.5000\n",
            "\n",
            "Epoch 00002: val_acc improved from 0.49474 to 0.50000, saving model to /content/drive/My Drive/โครงงานผื่น/RASH_INSPECTOR/ORGAN/bodyskin/DenseNet121/bodyskin_densenet121_model.h5\n",
            "Epoch 3/30\n",
            "48/48 [==============================] - 41s 859ms/step - loss: 0.6294 - acc: 0.6817 - val_loss: 4.2569 - val_acc: 0.5368\n",
            "\n",
            "Epoch 00003: val_acc improved from 0.50000 to 0.53684, saving model to /content/drive/My Drive/โครงงานผื่น/RASH_INSPECTOR/ORGAN/bodyskin/DenseNet121/bodyskin_densenet121_model.h5\n",
            "\n",
            "Epoch 00003: ReduceLROnPlateau reducing learning rate to 0.0019999999552965165.\n",
            "Epoch 4/30\n",
            "48/48 [==============================] - 41s 858ms/step - loss: 0.4976 - acc: 0.7767 - val_loss: 1.8647 - val_acc: 0.6421\n",
            "\n",
            "Epoch 00004: val_acc improved from 0.53684 to 0.64211, saving model to /content/drive/My Drive/โครงงานผื่น/RASH_INSPECTOR/ORGAN/bodyskin/DenseNet121/bodyskin_densenet121_model.h5\n",
            "Epoch 5/30\n",
            "48/48 [==============================] - 41s 860ms/step - loss: 0.5153 - acc: 0.7741 - val_loss: 0.7889 - val_acc: 0.6105\n",
            "\n",
            "Epoch 00005: val_acc did not improve from 0.64211\n",
            "\n",
            "Epoch 00005: ReduceLROnPlateau reducing learning rate to 0.0003999999724328518.\n",
            "Epoch 6/30\n",
            "48/48 [==============================] - 41s 858ms/step - loss: 0.5075 - acc: 0.7539 - val_loss: 0.5567 - val_acc: 0.7579\n",
            "\n",
            "Epoch 00006: val_acc improved from 0.64211 to 0.75789, saving model to /content/drive/My Drive/โครงงานผื่น/RASH_INSPECTOR/ORGAN/bodyskin/DenseNet121/bodyskin_densenet121_model.h5\n",
            "Epoch 7/30\n",
            "48/48 [==============================] - 41s 861ms/step - loss: 0.4689 - acc: 0.7715 - val_loss: 0.5161 - val_acc: 0.7684\n",
            "\n",
            "Epoch 00007: val_acc improved from 0.75789 to 0.76842, saving model to /content/drive/My Drive/โครงงานผื่น/RASH_INSPECTOR/ORGAN/bodyskin/DenseNet121/bodyskin_densenet121_model.h5\n",
            "\n",
            "Epoch 00007: ReduceLROnPlateau reducing learning rate to 7.999999215826393e-05.\n",
            "Epoch 8/30\n",
            "48/48 [==============================] - 41s 860ms/step - loss: 0.4613 - acc: 0.7838 - val_loss: 0.4944 - val_acc: 0.7737\n",
            "\n",
            "Epoch 00008: val_acc improved from 0.76842 to 0.77368, saving model to /content/drive/My Drive/โครงงานผื่น/RASH_INSPECTOR/ORGAN/bodyskin/DenseNet121/bodyskin_densenet121_model.h5\n",
            "Epoch 9/30\n",
            "48/48 [==============================] - 41s 862ms/step - loss: 0.4588 - acc: 0.7786 - val_loss: 0.4793 - val_acc: 0.7947\n",
            "\n",
            "Epoch 00009: val_acc improved from 0.77368 to 0.79474, saving model to /content/drive/My Drive/โครงงานผื่น/RASH_INSPECTOR/ORGAN/bodyskin/DenseNet121/bodyskin_densenet121_model.h5\n",
            "\n",
            "Epoch 00009: ReduceLROnPlateau reducing learning rate to 1.599999814061448e-05.\n",
            "Epoch 10/30\n",
            "48/48 [==============================] - 41s 860ms/step - loss: 0.4552 - acc: 0.7825 - val_loss: 0.4711 - val_acc: 0.8000\n",
            "\n",
            "Epoch 00010: val_acc improved from 0.79474 to 0.80000, saving model to /content/drive/My Drive/โครงงานผื่น/RASH_INSPECTOR/ORGAN/bodyskin/DenseNet121/bodyskin_densenet121_model.h5\n",
            "Epoch 11/30\n",
            "48/48 [==============================] - 41s 861ms/step - loss: 0.4572 - acc: 0.7689 - val_loss: 0.4675 - val_acc: 0.7947\n",
            "\n",
            "Epoch 00011: val_acc did not improve from 0.80000\n",
            "\n",
            "Epoch 00011: ReduceLROnPlateau reducing learning rate to 1e-05.\n",
            "Epoch 12/30\n",
            "48/48 [==============================] - 41s 859ms/step - loss: 0.4535 - acc: 0.7852 - val_loss: 0.4650 - val_acc: 0.8053\n",
            "\n",
            "Epoch 00012: val_acc improved from 0.80000 to 0.80526, saving model to /content/drive/My Drive/โครงงานผื่น/RASH_INSPECTOR/ORGAN/bodyskin/DenseNet121/bodyskin_densenet121_model.h5\n",
            "Epoch 13/30\n",
            "48/48 [==============================] - 41s 861ms/step - loss: 0.4490 - acc: 0.7858 - val_loss: 0.4640 - val_acc: 0.8000\n",
            "\n",
            "Epoch 00013: val_acc did not improve from 0.80526\n",
            "Epoch 14/30\n",
            "48/48 [==============================] - 41s 859ms/step - loss: 0.4356 - acc: 0.7910 - val_loss: 0.4634 - val_acc: 0.8053\n",
            "\n",
            "Epoch 00014: val_acc improved from 0.80526 to 0.80526, saving model to /content/drive/My Drive/โครงงานผื่น/RASH_INSPECTOR/ORGAN/bodyskin/DenseNet121/bodyskin_densenet121_model.h5\n",
            "Epoch 15/30\n",
            "48/48 [==============================] - 41s 861ms/step - loss: 0.4426 - acc: 0.7910 - val_loss: 0.4628 - val_acc: 0.8053\n",
            "\n",
            "Epoch 00015: val_acc did not improve from 0.80526\n",
            "Epoch 16/30\n",
            "48/48 [==============================] - 41s 859ms/step - loss: 0.4403 - acc: 0.7890 - val_loss: 0.4613 - val_acc: 0.8053\n",
            "\n",
            "Epoch 00016: val_acc did not improve from 0.80526\n",
            "Epoch 17/30\n",
            "48/48 [==============================] - 41s 859ms/step - loss: 0.4578 - acc: 0.7696 - val_loss: 0.4595 - val_acc: 0.8105\n",
            "\n",
            "Epoch 00017: val_acc improved from 0.80526 to 0.81053, saving model to /content/drive/My Drive/โครงงานผื่น/RASH_INSPECTOR/ORGAN/bodyskin/DenseNet121/bodyskin_densenet121_model.h5\n",
            "Epoch 18/30\n",
            "48/48 [==============================] - 41s 861ms/step - loss: 0.4480 - acc: 0.7826 - val_loss: 0.4583 - val_acc: 0.8105\n",
            "\n",
            "Epoch 00018: val_acc improved from 0.81053 to 0.81053, saving model to /content/drive/My Drive/โครงงานผื่น/RASH_INSPECTOR/ORGAN/bodyskin/DenseNet121/bodyskin_densenet121_model.h5\n",
            "Epoch 19/30\n",
            "48/48 [==============================] - 41s 862ms/step - loss: 0.4343 - acc: 0.7865 - val_loss: 0.4573 - val_acc: 0.8105\n",
            "\n",
            "Epoch 00019: val_acc did not improve from 0.81053\n",
            "Epoch 20/30\n",
            "48/48 [==============================] - 41s 859ms/step - loss: 0.4503 - acc: 0.7747 - val_loss: 0.4571 - val_acc: 0.8105\n",
            "\n",
            "Epoch 00020: val_acc did not improve from 0.81053\n",
            "Epoch 21/30\n",
            "48/48 [==============================] - 41s 859ms/step - loss: 0.4433 - acc: 0.7813 - val_loss: 0.4580 - val_acc: 0.8105\n",
            "\n",
            "Epoch 00021: val_acc did not improve from 0.81053\n",
            "Epoch 22/30\n",
            "48/48 [==============================] - 41s 859ms/step - loss: 0.4552 - acc: 0.7787 - val_loss: 0.4553 - val_acc: 0.8105\n",
            "\n",
            "Epoch 00022: val_acc did not improve from 0.81053\n",
            "Epoch 23/30\n",
            "48/48 [==============================] - 41s 859ms/step - loss: 0.4344 - acc: 0.7936 - val_loss: 0.4549 - val_acc: 0.8105\n",
            "\n",
            "Epoch 00023: val_acc did not improve from 0.81053\n",
            "Epoch 24/30\n",
            "48/48 [==============================] - 41s 857ms/step - loss: 0.4375 - acc: 0.7838 - val_loss: 0.4556 - val_acc: 0.8105\n",
            "\n",
            "Epoch 00024: val_acc did not improve from 0.81053\n",
            "Epoch 25/30\n",
            "48/48 [==============================] - 41s 857ms/step - loss: 0.4373 - acc: 0.7955 - val_loss: 0.4527 - val_acc: 0.8105\n",
            "\n",
            "Epoch 00025: val_acc did not improve from 0.81053\n",
            "Epoch 26/30\n",
            "48/48 [==============================] - 41s 859ms/step - loss: 0.4562 - acc: 0.7813 - val_loss: 0.4516 - val_acc: 0.8105\n",
            "\n",
            "Epoch 00026: val_acc did not improve from 0.81053\n",
            "Epoch 27/30\n",
            "48/48 [==============================] - 41s 857ms/step - loss: 0.4316 - acc: 0.7865 - val_loss: 0.4505 - val_acc: 0.8105\n",
            "\n",
            "Epoch 00027: val_acc did not improve from 0.81053\n",
            "Epoch 28/30\n",
            "48/48 [==============================] - 41s 858ms/step - loss: 0.4331 - acc: 0.7871 - val_loss: 0.4491 - val_acc: 0.8105\n",
            "\n",
            "Epoch 00028: val_acc did not improve from 0.81053\n",
            "Epoch 29/30\n",
            "48/48 [==============================] - 41s 858ms/step - loss: 0.4386 - acc: 0.7845 - val_loss: 0.4477 - val_acc: 0.8105\n",
            "\n",
            "Epoch 00029: val_acc did not improve from 0.81053\n",
            "Epoch 30/30\n",
            "48/48 [==============================] - 41s 859ms/step - loss: 0.4363 - acc: 0.7773 - val_loss: 0.4462 - val_acc: 0.8105\n",
            "\n",
            "Epoch 00030: val_acc did not improve from 0.81053\n"
          ],
          "name": "stdout"
        }
      ]
    },
    {
      "cell_type": "code",
      "metadata": {
        "id": "-S690RvC4Ozu",
        "colab_type": "code",
        "colab": {}
      },
      "source": [
        "model.save_weights('/content/drive/My Drive/โครงงานผื่น/RASH_INSPECTOR/ORGAN/bodyskin/DenseNet121/bodyskin_densenet121_weights.h5')"
      ],
      "execution_count": 0,
      "outputs": []
    },
    {
      "cell_type": "code",
      "metadata": {
        "id": "UXiPLOoL4Teh",
        "colab_type": "code",
        "outputId": "71648546-a15d-4233-9ca1-aa473352b1a2",
        "colab": {
          "base_uri": "https://localhost:8080/",
          "height": 51
        }
      },
      "source": [
        "model.load_weights(model_path)\n",
        "\n",
        "val_loss, val_acc = \\\n",
        "model.evaluate_generator(test_generator, \n",
        "                        steps=val_steps)\n",
        "\n",
        "print('val_loss:', val_loss)\n",
        "print('val_acc:', val_acc)"
      ],
      "execution_count": 0,
      "outputs": [
        {
          "output_type": "stream",
          "text": [
            "val_loss: 0.45882565724222285\n",
            "val_acc: 0.773684213035985\n"
          ],
          "name": "stdout"
        }
      ]
    },
    {
      "cell_type": "code",
      "metadata": {
        "id": "8cfPYmFc4VMt",
        "colab_type": "code",
        "outputId": "cf3f9b4a-c3d5-4b1e-e560-352132f725d6",
        "colab": {
          "base_uri": "https://localhost:8080/",
          "height": 295
        }
      },
      "source": [
        "plt.plot(history.history['acc'])\n",
        "plt.plot(history.history['val_acc'])\n",
        "plt.ylabel('accuracy')\n",
        "plt.xlabel('epoch')\n",
        "plt.legend(['train', 'test'], loc='upper left')\n",
        "plt.title('accuracy')\n",
        "plt.show()"
      ],
      "execution_count": 0,
      "outputs": [
        {
          "output_type": "display_data",
          "data": {
            "image/png": "[encoded data removed]",
            "text/plain": [
              "<Figure size 432x288 with 1 Axes>"
            ]
          },
          "metadata": {
            "tags": []
          }
        }
      ]
    },
    {
      "cell_type": "code",
      "metadata": {
        "id": "6k5JkFJ54Wq8",
        "colab_type": "code",
        "outputId": "5e4852c3-bf01-4534-e159-3ea2c89f93b6",
        "colab": {
          "base_uri": "https://localhost:8080/",
          "height": 295
        }
      },
      "source": [
        "plt.plot(history.history['loss'])\n",
        "plt.plot(history.history['val_loss'])\n",
        "plt.ylabel('loss')\n",
        "plt.xlabel('epoch')\n",
        "plt.legend(['train', 'test'], loc='upper left')\n",
        "plt.title('loss')\n",
        "plt.show()"
      ],
      "execution_count": 0,
      "outputs": [
        {
          "output_type": "display_data",
          "data": {
            "image/png": "[encoded data removed]",
            "text/plain": [
              "<Figure size 432x288 with 1 Axes>"
            ]
          },
          "metadata": {
            "tags": []
          }
        }
      ]
    },
    {
      "cell_type": "code",
      "metadata": {
        "id": "s2uDNHEY4XtB",
        "colab_type": "code",
        "outputId": "54cac1f3-e0ad-4bc5-90b5-7e701120d0e3",
        "colab": {
          "base_uri": "https://localhost:8080/",
          "height": 238
        }
      },
      "source": [
        "Y_pred = model.predict_generator(test_generator, num_test_files//batch_size+1)\n",
        "y_pred = np.argmax(Y_pred, axis=1)\n",
        "print('Confusion Matrix')\n",
        "print(confusion_matrix(test_generator.classes, y_pred))\n",
        "print('Classification Report')\n",
        "classes_names = ['AD', 'Other']\n",
        "print(classification_report(test_generator.classes, y_pred, target_names=classes_names))"
      ],
      "execution_count": 0,
      "outputs": [
        {
          "output_type": "stream",
          "text": [
            "Confusion Matrix\n",
            "[[74 21]\n",
            " [22 73]]\n",
            "Classification Report\n",
            "              precision    recall  f1-score   support\n",
            "\n",
            "          AD       0.77      0.78      0.77        95\n",
            "       Other       0.78      0.77      0.77        95\n",
            "\n",
            "    accuracy                           0.77       190\n",
            "   macro avg       0.77      0.77      0.77       190\n",
            "weighted avg       0.77      0.77      0.77       190\n",
            "\n"
          ],
          "name": "stdout"
        }
      ]
    },
    {
      "cell_type": "code",
      "metadata": {
        "id": "ok5bmPB04Ytz",
        "colab_type": "code",
        "outputId": "6fce2d3c-9872-49bc-f175-ff6dc756aa14",
        "colab": {
          "base_uri": "https://localhost:8080/",
          "height": 34
        }
      },
      "source": [
        "predictions = model.predict_generator(test_generator, steps=val_steps, verbose=1)"
      ],
      "execution_count": 0,
      "outputs": [
        {
          "output_type": "stream",
          "text": [
            "6/6 [==============================] - 2s 264ms/step\n"
          ],
          "name": "stdout"
        }
      ]
    },
    {
      "cell_type": "code",
      "metadata": {
        "id": "AcXvuyFI4aKz",
        "colab_type": "code",
        "colab": {}
      },
      "source": [
        "def plot_confusion_matrix(cm, classes, normalize=False, title='Confusion matrix', cmap=plt.cm.Blues):\n",
        "    \"\"\"\n",
        "    This function prints and plots the confusion matrix.\n",
        "    Normalization can be applied by setting `normalize=True`.\n",
        "    \"\"\"\n",
        "    if normalize:\n",
        "        cm = cm.astype('float') / cm.sum(axis=1)[:, np.newaxis]\n",
        "        print(\"Normalized confusion matrix\")\n",
        "    else:\n",
        "        print('Confusion matrix, without normalization')\n",
        "\n",
        "    print(cm)\n",
        "\n",
        "    plt.imshow(cm, interpolation='nearest', cmap=cmap)\n",
        "    plt.title(title)\n",
        "    plt.colorbar()\n",
        "    tick_marks = np.arange(len(classes))\n",
        "    plt.xticks(tick_marks, classes, rotation=45)\n",
        "    plt.yticks(tick_marks, classes)\n",
        "\n",
        "    fmt = '.2f' if normalize else 'd'\n",
        "    thresh = cm.max() / 2.\n",
        "    for i, j in itertools.product(range(cm.shape[0]), range(cm.shape[1])):\n",
        "        plt.text(j, i, format(cm[i, j], fmt),\n",
        "                 horizontalalignment=\"center\",\n",
        "                 color=\"white\" if cm[i, j] > thresh else \"black\")\n",
        "\n",
        "    plt.ylabel('True label')\n",
        "    plt.xlabel('Predicted label')\n",
        "    plt.tight_layout()"
      ],
      "execution_count": 0,
      "outputs": []
    },
    {
      "cell_type": "code",
      "metadata": {
        "id": "IVmOI_bw4bV-",
        "colab_type": "code",
        "colab": {}
      },
      "source": [
        "cm_plot_labels = ['AD', 'Other']"
      ],
      "execution_count": 0,
      "outputs": []
    },
    {
      "cell_type": "code",
      "metadata": {
        "id": "qxpv6q-q4djN",
        "colab_type": "code",
        "outputId": "d5928c4a-3e63-4f11-9976-33305eca294e",
        "colab": {
          "base_uri": "https://localhost:8080/",
          "height": 342
        }
      },
      "source": [
        "cm = confusion_matrix(test_generator.classes, predictions.argmax(axis=1))\n",
        "plot_confusion_matrix(cm, cm_plot_labels)"
      ],
      "execution_count": 0,
      "outputs": [
        {
          "output_type": "stream",
          "text": [
            "Confusion matrix, without normalization\n",
            "[[74 21]\n",
            " [22 73]]\n"
          ],
          "name": "stdout"
        },
        {
          "output_type": "display_data",
          "data": {
            "image/png": "[encoded data removed]",
            "text/plain": [
              "<Figure size 432x288 with 2 Axes>"
            ]
          },
          "metadata": {
            "tags": []
          }
        }
      ]
    }
  ]
}