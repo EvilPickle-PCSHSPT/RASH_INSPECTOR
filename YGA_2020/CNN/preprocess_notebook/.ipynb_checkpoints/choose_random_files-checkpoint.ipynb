{
 "cells": [
  {
   "cell_type": "markdown",
   "metadata": {},
   "source": [
    "# How to Choose Random Files "
   ]
  },
  {
   "cell_type": "markdown",
   "metadata": {},
   "source": [
    "* The original of this code is in this link: https://stackoverflow.com/a/11372059/9956949."
   ]
  },
  {
   "cell_type": "markdown",
   "metadata": {},
   "source": [
    "# Import Libraries"
   ]
  },
  {
   "cell_type": "code",
   "execution_count": null,
   "metadata": {},
   "outputs": [],
   "source": [
    "import os\n",
    "import random\n",
    "import shutil"
   ]
  },
  {
   "cell_type": "markdown",
   "metadata": {},
   "source": [
    "# Enter the Folder Path"
   ]
  },
  {
   "cell_type": "code",
   "execution_count": null,
   "metadata": {},
   "outputs": [],
   "source": [
    "src_path = '/Users/waranthornchansawang/Desktop/HAM10000_224/vasc/'\n",
    "new_path = '/Users/waranthornchansawang/Desktop/HAM10000_224_10500/vasc/'"
   ]
  },
  {
   "cell_type": "markdown",
   "metadata": {},
   "source": [
    "# Enter Number of Files that You Want"
   ]
  },
  {
   "cell_type": "code",
   "execution_count": null,
   "metadata": {},
   "outputs": [],
   "source": [
    "filenames = random.sample(os.listdir(src_path), 'number of files that you want')\n",
    "for files in filenames:\n",
    "    srcpath = os.path.join(src_path, files)\n",
    "    #print(srcpath)\n",
    "    shutil.copy(srcpath, new_path)"
   ]
  }
 ],
 "metadata": {
  "kernelspec": {
   "display_name": "Python 3",
   "language": "python",
   "name": "python3"
  },
  "language_info": {
   "codemirror_mode": {
    "name": "ipython",
    "version": 3
   },
   "file_extension": ".py",
   "mimetype": "text/x-python",
   "name": "python",
   "nbconvert_exporter": "python",
   "pygments_lexer": "ipython3",
   "version": "3.7.4"
  }
 },
 "nbformat": 4,
 "nbformat_minor": 4
}
